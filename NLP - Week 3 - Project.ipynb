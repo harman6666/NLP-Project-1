{
 "cells": [
  {
   "cell_type": "markdown",
   "metadata": {
    "id": "2Lx4qkqDOl-n"
   },
   "source": [
    "## About the dataset \n",
    "\n",
    "#### DOMAIN: Digital content management\n",
    "\n",
    "#### CONTEXT: \n",
    "Classification is probably the most popular task that you would deal with in real life. Text in the form of blogs, posts, articles, etc.\n",
    "are written every second. It is a challenge to predict the information about the writer without knowing about him/her. We are going to create a\n",
    "classifier that predicts multiple features of the author of a given text. We have designed it as a Multi label classification problem.\n",
    "#### DATA DESCRIPTION: \n",
    "Over 600,000 posts from more than 19 thousand bloggers The Blog Authorship Corpus consists of the collected posts of\n",
    "19,320 bloggers gathered from blogger.com in August 2004. The corpus incorporates a total of 681,288 posts and over 140 million words - or\n",
    "approximately 35 posts and 7250 words per person. Each blog is presented as a separate file, the name of which indicates a blogger id# and\n",
    "the blogger’s self-provided gender, age, industry, and astrological sign. (All are labelled for gender and age but for many, industry and/or sign is\n",
    "marked as unknown.) All bloggers included in the corpus fall into one of three age groups:\n",
    "- 8240 \"10s\" blogs (ages 13-17),\n",
    "- 8086 \"20s\" blogs(ages 23-27) and\n",
    "- 2994 \"30s\" blogs (ages 33-47)"
   ]
  },
  {
   "cell_type": "code",
   "execution_count": 2,
   "metadata": {
    "colab": {
     "base_uri": "https://localhost:8080/"
    },
    "id": "BCJDLZWzP4Ws",
    "outputId": "cfe316cb-d51b-43c6-935f-44a7c8ff7aca"
   },
   "outputs": [
    {
     "name": "stderr",
     "output_type": "stream",
     "text": [
      "[nltk_data] Downloading package stopwords to\n",
      "[nltk_data]     /Users/harmanpreetsingh/nltk_data...\n",
      "[nltk_data]   Package stopwords is already up-to-date!\n"
     ]
    },
    {
     "data": {
      "text/plain": [
       "True"
      ]
     },
     "execution_count": 2,
     "metadata": {},
     "output_type": "execute_result"
    }
   ],
   "source": [
    "## Setting up environvenment on colabs \n",
    "import nltk\n",
    "nltk.download('stopwords')\n",
    "\n"
   ]
  },
  {
   "cell_type": "code",
   "execution_count": 3,
   "metadata": {
    "id": "EJbeKsVkOl-0"
   },
   "outputs": [],
   "source": [
    "# Imports \n",
    "\n",
    "import gc\n",
    "gc.enable\n",
    "\n",
    "import pandas as pd\n",
    "pd.options.mode.chained_assignment = None\n",
    "import numpy as np\n",
    "import re\n",
    "import nltk\n",
    "import spacy\n",
    "import string\n",
    "import seaborn as sns\n",
    "\n",
    "sns.set(rc={'figure.figsize':(15, 16)})\n",
    "sns.set_theme(style=\"darkgrid\") #// for version 11 :/"
   ]
  },
  {
   "cell_type": "markdown",
   "metadata": {
    "id": "m9_A3iyxOl_F"
   },
   "source": [
    "### Loading the dataset \n",
    "\n",
    "    First truncated then replace it with comple once protyping is complete \n",
    "    \n",
    "    As the dataset is large, I am using fewer rows."
   ]
  },
  {
   "cell_type": "code",
   "execution_count": 5,
   "metadata": {
    "id": "l8T8H0eIOl_H"
   },
   "outputs": [
    {
     "data": {
      "text/plain": [
       "0"
      ]
     },
     "execution_count": 5,
     "metadata": {},
     "output_type": "execute_result"
    }
   ],
   "source": [
    "## load dataset and keep the orignal \n",
    "\n",
    "data_orignal = pd.read_csv('blogtext.csv', nrows = 50000,index_col=False)\n",
    "\n",
    "# droping id and date columns\n",
    "data_orignal.drop(labels=['id','date'], axis=1,inplace=True)\n",
    "\n",
    "# the next step is to randomize the rows of the data\n",
    "data_orignal = data_orignal.sample(frac=1).reset_index(drop=True)\n",
    "\n",
    "gc.collect()"
   ]
  },
  {
   "cell_type": "code",
   "execution_count": 6,
   "metadata": {
    "colab": {
     "base_uri": "https://localhost:8080/"
    },
    "id": "nNe49pqqDzKc",
    "outputId": "1d799027-ddfb-41b2-a1c0-7200b0c37129"
   },
   "outputs": [
    {
     "name": "stdout",
     "output_type": "stream",
     "text": [
      "<class 'pandas.core.frame.DataFrame'>\n",
      "RangeIndex: 50000 entries, 0 to 49999\n",
      "Data columns (total 5 columns):\n",
      " #   Column  Non-Null Count  Dtype \n",
      "---  ------  --------------  ----- \n",
      " 0   gender  50000 non-null  object\n",
      " 1   age     50000 non-null  int64 \n",
      " 2   topic   50000 non-null  object\n",
      " 3   sign    50000 non-null  object\n",
      " 4   text    50000 non-null  object\n",
      "dtypes: int64(1), object(4)\n",
      "memory usage: 1.9+ MB\n"
     ]
    }
   ],
   "source": [
    "data_orignal.info()"
   ]
  },
  {
   "cell_type": "code",
   "execution_count": 7,
   "metadata": {
    "colab": {
     "base_uri": "https://localhost:8080/"
    },
    "id": "gWxOmIPvDx6e",
    "outputId": "020fccbd-2e76-4213-b115-00134123692c"
   },
   "outputs": [
    {
     "name": "stdout",
     "output_type": "stream",
     "text": [
      "<class 'pandas.core.frame.DataFrame'>\n",
      "RangeIndex: 50000 entries, 0 to 49999\n",
      "Data columns (total 5 columns):\n",
      " #   Column  Non-Null Count  Dtype \n",
      "---  ------  --------------  ----- \n",
      " 0   gender  50000 non-null  object\n",
      " 1   age     50000 non-null  int64 \n",
      " 2   topic   50000 non-null  object\n",
      " 3   sign    50000 non-null  object\n",
      " 4   text    50000 non-null  object\n",
      "dtypes: int64(1), object(4)\n",
      "memory usage: 1.9+ MB\n"
     ]
    }
   ],
   "source": [
    "data_orignal.info()"
   ]
  },
  {
   "cell_type": "markdown",
   "metadata": {
    "id": "7PyEFzxlOl_O"
   },
   "source": [
    "## Preprocessing\n",
    "\n",
    "Some of the common text preprocessing / cleaning steps are:\n",
    "\n",
    "    \n",
    "    - [ ] remove unwanted space \n",
    "    - [ ] remove unwanted characters / remove Punctuation\n",
    "    - [ ] remove Stopwords \n",
    "    - [ ] convert text to lowercase\n",
    "\n"
   ]
  },
  {
   "cell_type": "code",
   "execution_count": 8,
   "metadata": {
    "id": "Ov2OmTudOl_P"
   },
   "outputs": [],
   "source": [
    "## truncated dataset to start on rapid protyping to preprocessing \n",
    "df = data_orignal[[\"text\"]]"
   ]
  },
  {
   "cell_type": "code",
   "execution_count": 9,
   "metadata": {
    "colab": {
     "base_uri": "https://localhost:8080/",
     "height": 204
    },
    "id": "vLl3p3bAOl_V",
    "outputId": "66716e73-dbb9-4e60-b6df-852eba11dcd2"
   },
   "outputs": [
    {
     "data": {
      "text/html": [
       "<div>\n",
       "<style scoped>\n",
       "    .dataframe tbody tr th:only-of-type {\n",
       "        vertical-align: middle;\n",
       "    }\n",
       "\n",
       "    .dataframe tbody tr th {\n",
       "        vertical-align: top;\n",
       "    }\n",
       "\n",
       "    .dataframe thead th {\n",
       "        text-align: right;\n",
       "    }\n",
       "</style>\n",
       "<table border=\"1\" class=\"dataframe\">\n",
       "  <thead>\n",
       "    <tr style=\"text-align: right;\">\n",
       "      <th></th>\n",
       "      <th>text</th>\n",
       "    </tr>\n",
       "  </thead>\n",
       "  <tbody>\n",
       "    <tr>\n",
       "      <th>0</th>\n",
       "      <td>Not even sure.  Well, dumb as...</td>\n",
       "    </tr>\n",
       "    <tr>\n",
       "      <th>1</th>\n",
       "      <td>Becky has a blog! Becky has a blog! Sor...</td>\n",
       "    </tr>\n",
       "    <tr>\n",
       "      <th>2</th>\n",
       "      <td>NO-one has blooged today! wOW! i'M ...</td>\n",
       "    </tr>\n",
       "    <tr>\n",
       "      <th>3</th>\n",
       "      <td>My tastes in music vary, but only s...</td>\n",
       "    </tr>\n",
       "    <tr>\n",
       "      <th>4</th>\n",
       "      <td>Saturday December 14, 2002   I didn't ...</td>\n",
       "    </tr>\n",
       "  </tbody>\n",
       "</table>\n",
       "</div>"
      ],
      "text/plain": [
       "                                                text\n",
       "0                   Not even sure.  Well, dumb as...\n",
       "1         Becky has a blog! Becky has a blog! Sor...\n",
       "2             NO-one has blooged today! wOW! i'M ...\n",
       "3             My tastes in music vary, but only s...\n",
       "4          Saturday December 14, 2002   I didn't ..."
      ]
     },
     "execution_count": 9,
     "metadata": {},
     "output_type": "execute_result"
    }
   ],
   "source": [
    "df[:5]"
   ]
  },
  {
   "cell_type": "code",
   "execution_count": 10,
   "metadata": {
    "id": "2RcHiunhOl_b"
   },
   "outputs": [],
   "source": [
    "pd.options.mode.chained_assignment = None\n",
    "df['text'] = df[['text']]\n",
    "df[\"text\"] = df[\"text\"].astype(str)\n"
   ]
  },
  {
   "cell_type": "markdown",
   "metadata": {
    "id": "xcb6hbZZOl_i"
   },
   "source": [
    "\n",
    "### Lower Casing\n",
    "\n",
    "Lower casing is a common text preprocessing technique. The idea is to convert the input text into same casing format so that 'text', 'Text' and 'TEXT' are treated the same way.\n",
    "\n",
    "This is more helpful for text featurization techniques like frequency, tfidf as it helps to combine the same words together thereby reducing the duplication and get correct counts / tfidf values.\n",
    "\n",
    "This may not be helpful when we do tasks like Part of Speech tagging (where proper casing gives some information about Nouns and so on) and Sentiment Analysis (where upper casing refers to anger and so on)\n",
    "\n",
    "By default, lower casing is done my most of the modern day vecotirzers and tokenizers like [sklearn TfidfVectorizer](https://scikit-learn.org/stable/modules/generated/sklearn.feature_extraction.text.TfidfVectorizer.html) and [Keras Tokenizer](https://keras.io/preprocessing/text/). So we need to set them to false as needed depending on our use case.\n"
   ]
  },
  {
   "cell_type": "code",
   "execution_count": 11,
   "metadata": {
    "colab": {
     "base_uri": "https://localhost:8080/",
     "height": 204
    },
    "id": "-wKBhaFROl_j",
    "outputId": "28ebc125-db58-4203-e009-8fd3c8050b32"
   },
   "outputs": [
    {
     "data": {
      "text/html": [
       "<div>\n",
       "<style scoped>\n",
       "    .dataframe tbody tr th:only-of-type {\n",
       "        vertical-align: middle;\n",
       "    }\n",
       "\n",
       "    .dataframe tbody tr th {\n",
       "        vertical-align: top;\n",
       "    }\n",
       "\n",
       "    .dataframe thead th {\n",
       "        text-align: right;\n",
       "    }\n",
       "</style>\n",
       "<table border=\"1\" class=\"dataframe\">\n",
       "  <thead>\n",
       "    <tr style=\"text-align: right;\">\n",
       "      <th></th>\n",
       "      <th>text</th>\n",
       "      <th>text_lower</th>\n",
       "    </tr>\n",
       "  </thead>\n",
       "  <tbody>\n",
       "    <tr>\n",
       "      <th>0</th>\n",
       "      <td>Not even sure.  Well, dumb as...</td>\n",
       "      <td>not even sure.  well, dumb as...</td>\n",
       "    </tr>\n",
       "    <tr>\n",
       "      <th>1</th>\n",
       "      <td>Becky has a blog! Becky has a blog! Sor...</td>\n",
       "      <td>becky has a blog! becky has a blog! sor...</td>\n",
       "    </tr>\n",
       "    <tr>\n",
       "      <th>2</th>\n",
       "      <td>NO-one has blooged today! wOW! i'M ...</td>\n",
       "      <td>no-one has blooged today! wow! i'm ...</td>\n",
       "    </tr>\n",
       "    <tr>\n",
       "      <th>3</th>\n",
       "      <td>My tastes in music vary, but only s...</td>\n",
       "      <td>my tastes in music vary, but only s...</td>\n",
       "    </tr>\n",
       "    <tr>\n",
       "      <th>4</th>\n",
       "      <td>Saturday December 14, 2002   I didn't ...</td>\n",
       "      <td>saturday december 14, 2002   i didn't ...</td>\n",
       "    </tr>\n",
       "  </tbody>\n",
       "</table>\n",
       "</div>"
      ],
      "text/plain": [
       "                                                text  \\\n",
       "0                   Not even sure.  Well, dumb as...   \n",
       "1         Becky has a blog! Becky has a blog! Sor...   \n",
       "2             NO-one has blooged today! wOW! i'M ...   \n",
       "3             My tastes in music vary, but only s...   \n",
       "4          Saturday December 14, 2002   I didn't ...   \n",
       "\n",
       "                                          text_lower  \n",
       "0                   not even sure.  well, dumb as...  \n",
       "1         becky has a blog! becky has a blog! sor...  \n",
       "2             no-one has blooged today! wow! i'm ...  \n",
       "3             my tastes in music vary, but only s...  \n",
       "4          saturday december 14, 2002   i didn't ...  "
      ]
     },
     "execution_count": 11,
     "metadata": {},
     "output_type": "execute_result"
    }
   ],
   "source": [
    "df[\"text_lower\"] = df[\"text\"].str.lower()\n",
    "df.head()\n",
    "\n"
   ]
  },
  {
   "cell_type": "markdown",
   "metadata": {
    "id": "wR_VTTvmOl_p"
   },
   "source": [
    "\n",
    "### Removal of Punctuations\n",
    "\n",
    "One another common text preprocessing technique is to remove the punctuations from the text data. This is again a text standardization process that will help to treat 'hurray' and 'hurray!' in the same way.\n",
    "\n",
    "We also need to carefully choose the list of punctuations to exclude depending on the use case. For example, the string.punctuation in python contains the following punctuation symbols\n",
    "\n",
    "!\"#$%&\\'()*+,-./:;<=>?@[\\\\]^_{|}~`\n",
    "\n",
    "We can add or remove more punctuations as per our need.\n"
   ]
  },
  {
   "cell_type": "code",
   "execution_count": 13,
   "metadata": {
    "id": "cP5pSBY4Ol_q"
   },
   "outputs": [
    {
     "data": {
      "text/html": [
       "<div>\n",
       "<style scoped>\n",
       "    .dataframe tbody tr th:only-of-type {\n",
       "        vertical-align: middle;\n",
       "    }\n",
       "\n",
       "    .dataframe tbody tr th {\n",
       "        vertical-align: top;\n",
       "    }\n",
       "\n",
       "    .dataframe thead th {\n",
       "        text-align: right;\n",
       "    }\n",
       "</style>\n",
       "<table border=\"1\" class=\"dataframe\">\n",
       "  <thead>\n",
       "    <tr style=\"text-align: right;\">\n",
       "      <th></th>\n",
       "      <th>text</th>\n",
       "      <th>text_lower</th>\n",
       "      <th>text_wo_punctuation</th>\n",
       "    </tr>\n",
       "  </thead>\n",
       "  <tbody>\n",
       "    <tr>\n",
       "      <th>0</th>\n",
       "      <td>Not even sure.  Well, dumb as...</td>\n",
       "      <td>not even sure.  well, dumb as...</td>\n",
       "      <td>not even sure  well dumb ass ...</td>\n",
       "    </tr>\n",
       "    <tr>\n",
       "      <th>1</th>\n",
       "      <td>Becky has a blog! Becky has a blog! Sor...</td>\n",
       "      <td>becky has a blog! becky has a blog! sor...</td>\n",
       "      <td>becky has a blog becky has a blog sorry...</td>\n",
       "    </tr>\n",
       "    <tr>\n",
       "      <th>2</th>\n",
       "      <td>NO-one has blooged today! wOW! i'M ...</td>\n",
       "      <td>no-one has blooged today! wow! i'm ...</td>\n",
       "      <td>noone has blooged today wow im the ...</td>\n",
       "    </tr>\n",
       "    <tr>\n",
       "      <th>3</th>\n",
       "      <td>My tastes in music vary, but only s...</td>\n",
       "      <td>my tastes in music vary, but only s...</td>\n",
       "      <td>my tastes in music vary but only sl...</td>\n",
       "    </tr>\n",
       "    <tr>\n",
       "      <th>4</th>\n",
       "      <td>Saturday December 14, 2002   I didn't ...</td>\n",
       "      <td>saturday december 14, 2002   i didn't ...</td>\n",
       "      <td>saturday december 14 2002   i didnt go...</td>\n",
       "    </tr>\n",
       "  </tbody>\n",
       "</table>\n",
       "</div>"
      ],
      "text/plain": [
       "                                                text  \\\n",
       "0                   Not even sure.  Well, dumb as...   \n",
       "1         Becky has a blog! Becky has a blog! Sor...   \n",
       "2             NO-one has blooged today! wOW! i'M ...   \n",
       "3             My tastes in music vary, but only s...   \n",
       "4          Saturday December 14, 2002   I didn't ...   \n",
       "\n",
       "                                          text_lower  \\\n",
       "0                   not even sure.  well, dumb as...   \n",
       "1         becky has a blog! becky has a blog! sor...   \n",
       "2             no-one has blooged today! wow! i'm ...   \n",
       "3             my tastes in music vary, but only s...   \n",
       "4          saturday december 14, 2002   i didn't ...   \n",
       "\n",
       "                                 text_wo_punctuation  \n",
       "0                   not even sure  well dumb ass ...  \n",
       "1         becky has a blog becky has a blog sorry...  \n",
       "2             noone has blooged today wow im the ...  \n",
       "3             my tastes in music vary but only sl...  \n",
       "4          saturday december 14 2002   i didnt go...  "
      ]
     },
     "execution_count": 13,
     "metadata": {},
     "output_type": "execute_result"
    }
   ],
   "source": [
    "# df.drop([\"text_lower\"], axis=1, inplace=True)\n",
    "\n",
    "PUNCT_TO_REMOVE = string.punctuation\n",
    "def remove_punctuation(text):\n",
    "    return text.translate(str.maketrans('','',PUNCT_TO_REMOVE))\n",
    "                                        \n",
    "df[\"text_wo_punctuation\"] = df[\"text_lower\"].apply(lambda text: remove_punctuation(text))\n",
    "df.head()"
   ]
  },
  {
   "cell_type": "markdown",
   "metadata": {
    "id": "iPOH6I8fOl_x"
   },
   "source": [
    "\n",
    "### Removal of stopwords\n",
    "\n",
    "Stopwords are commonly occuring words in a language like 'the', 'a' and so on. They can be removed from the text most of the times, as they don't provide valuable information for downstream analysis. In cases like Part of Speech tagging, we should not remove them as provide very valuable information about the POS.\n",
    "\n",
    "These stopword lists are already compiled for different languages and we can safely use them. For example, the stopword list for english language from the nltk package can be seen below.\n"
   ]
  },
  {
   "cell_type": "code",
   "execution_count": 16,
   "metadata": {
    "colab": {
     "base_uri": "https://localhost:8080/",
     "height": 120
    },
    "id": "vlVv1BjkOl_y",
    "outputId": "61cb5daf-d17c-4dd2-9240-c63dfc3f17e6"
   },
   "outputs": [
    {
     "data": {
      "text/plain": [
       "7"
      ]
     },
     "execution_count": 16,
     "metadata": {},
     "output_type": "execute_result"
    }
   ],
   "source": [
    "from nltk.corpus import stopwords\n",
    "\", \".join(stopwords.words('english'))\n",
    "\n",
    "gc.collect()"
   ]
  },
  {
   "cell_type": "code",
   "execution_count": 17,
   "metadata": {
    "id": "7-EE1vG5Ol_2"
   },
   "outputs": [],
   "source": [
    "STOPWORDS = set(stopwords.words('english'))\n",
    "\n",
    "def remove_stopwords(text):\n",
    "    return \" \".join([word for word in str(text).split() if word not in STOPWORDS])\n"
   ]
  },
  {
   "cell_type": "markdown",
   "metadata": {
    "id": "Kqie6iZjOl_-"
   },
   "source": [
    "Pipeliining all the above steps :"
   ]
  },
  {
   "cell_type": "code",
   "execution_count": 18,
   "metadata": {
    "id": "rbcu-eQvOl__"
   },
   "outputs": [],
   "source": [
    "## The output looks okay , some spacing adjustment would do wonders \n",
    "\n",
    "# Pipeline the pre-processing \n",
    "def clean_text(text):\n",
    "    text = text.strip()\n",
    "    text = remove_punctuation(text)\n",
    "    text = remove_stopwords(text)\n",
    "    text = text.lower()\n",
    "    return text\n",
    "data_orignal[\"text\"] = data_orignal[\"text\"].map(lambda text : clean_text(text))"
   ]
  },
  {
   "cell_type": "code",
   "execution_count": 19,
   "metadata": {
    "colab": {
     "base_uri": "https://localhost:8080/",
     "height": 204
    },
    "id": "bfIghmLpOmAC",
    "outputId": "33589782-cf6c-4467-dbec-82e42e8274b3"
   },
   "outputs": [
    {
     "data": {
      "text/html": [
       "<div>\n",
       "<style scoped>\n",
       "    .dataframe tbody tr th:only-of-type {\n",
       "        vertical-align: middle;\n",
       "    }\n",
       "\n",
       "    .dataframe tbody tr th {\n",
       "        vertical-align: top;\n",
       "    }\n",
       "\n",
       "    .dataframe thead th {\n",
       "        text-align: right;\n",
       "    }\n",
       "</style>\n",
       "<table border=\"1\" class=\"dataframe\">\n",
       "  <thead>\n",
       "    <tr style=\"text-align: right;\">\n",
       "      <th></th>\n",
       "      <th>gender</th>\n",
       "      <th>age</th>\n",
       "      <th>topic</th>\n",
       "      <th>sign</th>\n",
       "      <th>text</th>\n",
       "    </tr>\n",
       "  </thead>\n",
       "  <tbody>\n",
       "    <tr>\n",
       "      <th>0</th>\n",
       "      <td>female</td>\n",
       "      <td>25</td>\n",
       "      <td>indUnk</td>\n",
       "      <td>Aquarius</td>\n",
       "      <td>not even sure well dumb ass j trying get ahold...</td>\n",
       "    </tr>\n",
       "    <tr>\n",
       "      <th>1</th>\n",
       "      <td>male</td>\n",
       "      <td>17</td>\n",
       "      <td>Student</td>\n",
       "      <td>Cancer</td>\n",
       "      <td>becky blog becky blog sorry good evening morta...</td>\n",
       "    </tr>\n",
       "    <tr>\n",
       "      <th>2</th>\n",
       "      <td>female</td>\n",
       "      <td>17</td>\n",
       "      <td>Student</td>\n",
       "      <td>Capricorn</td>\n",
       "      <td>noone blooged today wow im the first whooohoooo</td>\n",
       "    </tr>\n",
       "    <tr>\n",
       "      <th>3</th>\n",
       "      <td>female</td>\n",
       "      <td>17</td>\n",
       "      <td>Student</td>\n",
       "      <td>Capricorn</td>\n",
       "      <td>my tastes music vary slightly i like kinds roc...</td>\n",
       "    </tr>\n",
       "    <tr>\n",
       "      <th>4</th>\n",
       "      <td>female</td>\n",
       "      <td>24</td>\n",
       "      <td>indUnk</td>\n",
       "      <td>Libra</td>\n",
       "      <td>saturday december 14 2002 i didnt go work toda...</td>\n",
       "    </tr>\n",
       "  </tbody>\n",
       "</table>\n",
       "</div>"
      ],
      "text/plain": [
       "   gender  age    topic       sign  \\\n",
       "0  female   25   indUnk   Aquarius   \n",
       "1    male   17  Student     Cancer   \n",
       "2  female   17  Student  Capricorn   \n",
       "3  female   17  Student  Capricorn   \n",
       "4  female   24   indUnk      Libra   \n",
       "\n",
       "                                                text  \n",
       "0  not even sure well dumb ass j trying get ahold...  \n",
       "1  becky blog becky blog sorry good evening morta...  \n",
       "2    noone blooged today wow im the first whooohoooo  \n",
       "3  my tastes music vary slightly i like kinds roc...  \n",
       "4  saturday december 14 2002 i didnt go work toda...  "
      ]
     },
     "execution_count": 19,
     "metadata": {},
     "output_type": "execute_result"
    }
   ],
   "source": [
    "gc.collect()\n",
    "\n",
    "data_orignal.head()"
   ]
  },
  {
   "cell_type": "markdown",
   "metadata": {
    "id": "ANrKq7TfOmAI"
   },
   "source": [
    "## EDA \n",
    "\n",
    "\n",
    "After cleaning the text , let's have some idea about the dataset "
   ]
  },
  {
   "cell_type": "code",
   "execution_count": 20,
   "metadata": {
    "colab": {
     "base_uri": "https://localhost:8080/"
    },
    "id": "BEMGKsuPOmAI",
    "outputId": "8b6679b7-c347-4116-ca1c-eb87c33a6e24"
   },
   "outputs": [
    {
     "name": "stdout",
     "output_type": "stream",
     "text": [
      "<class 'pandas.core.frame.DataFrame'>\n",
      "RangeIndex: 50000 entries, 0 to 49999\n",
      "Data columns (total 5 columns):\n",
      " #   Column  Non-Null Count  Dtype \n",
      "---  ------  --------------  ----- \n",
      " 0   gender  50000 non-null  object\n",
      " 1   age     50000 non-null  int64 \n",
      " 2   topic   50000 non-null  object\n",
      " 3   sign    50000 non-null  object\n",
      " 4   text    50000 non-null  object\n",
      "dtypes: int64(1), object(4)\n",
      "memory usage: 1.9+ MB\n"
     ]
    }
   ],
   "source": [
    "data_orignal.info()"
   ]
  },
  {
   "cell_type": "code",
   "execution_count": 21,
   "metadata": {
    "colab": {
     "base_uri": "https://localhost:8080/",
     "height": 255
    },
    "id": "eXcuvd4rOmAN",
    "outputId": "8f4f8982-ffbe-423b-e767-72676bbb92c5"
   },
   "outputs": [
    {
     "data": {
      "text/html": [
       "<div>\n",
       "<style scoped>\n",
       "    .dataframe tbody tr th:only-of-type {\n",
       "        vertical-align: middle;\n",
       "    }\n",
       "\n",
       "    .dataframe tbody tr th {\n",
       "        vertical-align: top;\n",
       "    }\n",
       "\n",
       "    .dataframe thead th {\n",
       "        text-align: right;\n",
       "    }\n",
       "</style>\n",
       "<table border=\"1\" class=\"dataframe\">\n",
       "  <thead>\n",
       "    <tr style=\"text-align: right;\">\n",
       "      <th></th>\n",
       "      <th>0</th>\n",
       "      <th>1</th>\n",
       "      <th>2</th>\n",
       "      <th>3</th>\n",
       "      <th>4</th>\n",
       "      <th>5</th>\n",
       "      <th>6</th>\n",
       "      <th>7</th>\n",
       "      <th>8</th>\n",
       "      <th>9</th>\n",
       "    </tr>\n",
       "  </thead>\n",
       "  <tbody>\n",
       "    <tr>\n",
       "      <th>gender</th>\n",
       "      <td>female</td>\n",
       "      <td>male</td>\n",
       "      <td>female</td>\n",
       "      <td>female</td>\n",
       "      <td>female</td>\n",
       "      <td>female</td>\n",
       "      <td>male</td>\n",
       "      <td>male</td>\n",
       "      <td>male</td>\n",
       "      <td>female</td>\n",
       "    </tr>\n",
       "    <tr>\n",
       "      <th>age</th>\n",
       "      <td>25</td>\n",
       "      <td>17</td>\n",
       "      <td>17</td>\n",
       "      <td>17</td>\n",
       "      <td>24</td>\n",
       "      <td>24</td>\n",
       "      <td>36</td>\n",
       "      <td>36</td>\n",
       "      <td>15</td>\n",
       "      <td>26</td>\n",
       "    </tr>\n",
       "    <tr>\n",
       "      <th>topic</th>\n",
       "      <td>indUnk</td>\n",
       "      <td>Student</td>\n",
       "      <td>Student</td>\n",
       "      <td>Student</td>\n",
       "      <td>indUnk</td>\n",
       "      <td>indUnk</td>\n",
       "      <td>Fashion</td>\n",
       "      <td>Fashion</td>\n",
       "      <td>Student</td>\n",
       "      <td>indUnk</td>\n",
       "    </tr>\n",
       "    <tr>\n",
       "      <th>sign</th>\n",
       "      <td>Aquarius</td>\n",
       "      <td>Cancer</td>\n",
       "      <td>Capricorn</td>\n",
       "      <td>Capricorn</td>\n",
       "      <td>Libra</td>\n",
       "      <td>Libra</td>\n",
       "      <td>Aries</td>\n",
       "      <td>Aries</td>\n",
       "      <td>Gemini</td>\n",
       "      <td>Aquarius</td>\n",
       "    </tr>\n",
       "    <tr>\n",
       "      <th>text</th>\n",
       "      <td>not even sure well dumb ass j trying get ahold...</td>\n",
       "      <td>becky blog becky blog sorry good evening morta...</td>\n",
       "      <td>noone blooged today wow im the first whooohoooo</td>\n",
       "      <td>my tastes music vary slightly i like kinds roc...</td>\n",
       "      <td>saturday december 14 2002 i didnt go work toda...</td>\n",
       "      <td>its nice icky outside great way start weekend ...</td>\n",
       "      <td>hal i well way sunny phoenix february why stay...</td>\n",
       "      <td>i think americans read seymour hersh articles ...</td>\n",
       "      <td>heres second ten minute turn computer i active...</td>\n",
       "      <td>long live aquarians happy 26th birthday patric...</td>\n",
       "    </tr>\n",
       "  </tbody>\n",
       "</table>\n",
       "</div>"
      ],
      "text/plain": [
       "                                                        0  \\\n",
       "gender                                             female   \n",
       "age                                                    25   \n",
       "topic                                              indUnk   \n",
       "sign                                             Aquarius   \n",
       "text    not even sure well dumb ass j trying get ahold...   \n",
       "\n",
       "                                                        1  \\\n",
       "gender                                               male   \n",
       "age                                                    17   \n",
       "topic                                             Student   \n",
       "sign                                               Cancer   \n",
       "text    becky blog becky blog sorry good evening morta...   \n",
       "\n",
       "                                                      2  \\\n",
       "gender                                           female   \n",
       "age                                                  17   \n",
       "topic                                           Student   \n",
       "sign                                          Capricorn   \n",
       "text    noone blooged today wow im the first whooohoooo   \n",
       "\n",
       "                                                        3  \\\n",
       "gender                                             female   \n",
       "age                                                    17   \n",
       "topic                                             Student   \n",
       "sign                                            Capricorn   \n",
       "text    my tastes music vary slightly i like kinds roc...   \n",
       "\n",
       "                                                        4  \\\n",
       "gender                                             female   \n",
       "age                                                    24   \n",
       "topic                                              indUnk   \n",
       "sign                                                Libra   \n",
       "text    saturday december 14 2002 i didnt go work toda...   \n",
       "\n",
       "                                                        5  \\\n",
       "gender                                             female   \n",
       "age                                                    24   \n",
       "topic                                              indUnk   \n",
       "sign                                                Libra   \n",
       "text    its nice icky outside great way start weekend ...   \n",
       "\n",
       "                                                        6  \\\n",
       "gender                                               male   \n",
       "age                                                    36   \n",
       "topic                                             Fashion   \n",
       "sign                                                Aries   \n",
       "text    hal i well way sunny phoenix february why stay...   \n",
       "\n",
       "                                                        7  \\\n",
       "gender                                               male   \n",
       "age                                                    36   \n",
       "topic                                             Fashion   \n",
       "sign                                                Aries   \n",
       "text    i think americans read seymour hersh articles ...   \n",
       "\n",
       "                                                        8  \\\n",
       "gender                                               male   \n",
       "age                                                    15   \n",
       "topic                                             Student   \n",
       "sign                                               Gemini   \n",
       "text    heres second ten minute turn computer i active...   \n",
       "\n",
       "                                                        9  \n",
       "gender                                             female  \n",
       "age                                                    26  \n",
       "topic                                              indUnk  \n",
       "sign                                             Aquarius  \n",
       "text    long live aquarians happy 26th birthday patric...  "
      ]
     },
     "execution_count": 21,
     "metadata": {},
     "output_type": "execute_result"
    }
   ],
   "source": [
    "pd.set_option('display.max_colwidth', 50)\n",
    "data_orignal.head(10).T"
   ]
  },
  {
   "cell_type": "code",
   "execution_count": 22,
   "metadata": {
    "colab": {
     "base_uri": "https://localhost:8080/"
    },
    "id": "k0CnAAB8OmAR",
    "outputId": "b0a99f38-d1b8-41c9-c7c2-b8115ef45490"
   },
   "outputs": [
    {
     "data": {
      "text/plain": [
       "False"
      ]
     },
     "execution_count": 22,
     "metadata": {},
     "output_type": "execute_result"
    }
   ],
   "source": [
    "data_orignal.isnull().any().any() "
   ]
  },
  {
   "cell_type": "code",
   "execution_count": 23,
   "metadata": {
    "colab": {
     "base_uri": "https://localhost:8080/",
     "height": 80
    },
    "id": "0JXm-NulOmAV",
    "outputId": "1fa251db-e33f-4d2f-97a2-8961251c017b"
   },
   "outputs": [
    {
     "data": {
      "text/html": [
       "<div>\n",
       "<style scoped>\n",
       "    .dataframe tbody tr th:only-of-type {\n",
       "        vertical-align: middle;\n",
       "    }\n",
       "\n",
       "    .dataframe tbody tr th {\n",
       "        vertical-align: top;\n",
       "    }\n",
       "\n",
       "    .dataframe thead th {\n",
       "        text-align: right;\n",
       "    }\n",
       "</style>\n",
       "<table border=\"1\" class=\"dataframe\">\n",
       "  <thead>\n",
       "    <tr style=\"text-align: right;\">\n",
       "      <th></th>\n",
       "      <th>count</th>\n",
       "      <th>mean</th>\n",
       "      <th>std</th>\n",
       "      <th>min</th>\n",
       "      <th>25%</th>\n",
       "      <th>50%</th>\n",
       "      <th>75%</th>\n",
       "      <th>max</th>\n",
       "    </tr>\n",
       "  </thead>\n",
       "  <tbody>\n",
       "    <tr>\n",
       "      <th>age</th>\n",
       "      <td>50000.0</td>\n",
       "      <td>24.36214</td>\n",
       "      <td>7.982836</td>\n",
       "      <td>13.0</td>\n",
       "      <td>17.0</td>\n",
       "      <td>24.0</td>\n",
       "      <td>27.0</td>\n",
       "      <td>48.0</td>\n",
       "    </tr>\n",
       "  </tbody>\n",
       "</table>\n",
       "</div>"
      ],
      "text/plain": [
       "       count      mean       std   min   25%   50%   75%   max\n",
       "age  50000.0  24.36214  7.982836  13.0  17.0  24.0  27.0  48.0"
      ]
     },
     "execution_count": 23,
     "metadata": {},
     "output_type": "execute_result"
    }
   ],
   "source": [
    "data_orignal.describe(include = [np.number]).T\n"
   ]
  },
  {
   "cell_type": "code",
   "execution_count": 24,
   "metadata": {
    "colab": {
     "base_uri": "https://localhost:8080/"
    },
    "id": "7r01JA44OmAY",
    "outputId": "7fddf51c-605a-4cce-8dcb-e625d627b937"
   },
   "outputs": [
    {
     "name": "stdout",
     "output_type": "stream",
     "text": [
      "17    6859\n",
      "24    5746\n",
      "23    5518\n",
      "16    4156\n",
      "27    4094\n",
      "15    3508\n",
      "35    3365\n",
      "26    2869\n",
      "25    2837\n",
      "14    2043\n",
      "36    1985\n",
      "34    1886\n",
      "33    1654\n",
      "13     745\n",
      "39     412\n",
      "41     394\n",
      "46     330\n",
      "48     318\n",
      "37     310\n",
      "47     206\n",
      "38     196\n",
      "40     192\n",
      "43     150\n",
      "42      96\n",
      "45      93\n",
      "44      38\n",
      "Name: age, dtype: int64\n"
     ]
    }
   ],
   "source": [
    "print(data_orignal.age.value_counts())"
   ]
  },
  {
   "cell_type": "code",
   "execution_count": 25,
   "metadata": {
    "colab": {
     "base_uri": "https://localhost:8080/",
     "height": 173
    },
    "id": "OkSOd_Q5OmAc",
    "outputId": "3ed5a0ef-b8a1-4d31-b118-39bd1658c0d2"
   },
   "outputs": [
    {
     "name": "stderr",
     "output_type": "stream",
     "text": [
      "/var/folders/3_/y3xs4ypx57l_ztf4td9z3tfw0000gn/T/ipykernel_60390/2323571198.py:1: DeprecationWarning: `np.object` is a deprecated alias for the builtin `object`. To silence this warning, use `object` by itself. Doing this will not modify any behavior and is safe. \n",
      "Deprecated in NumPy 1.20; for more details and guidance: https://numpy.org/devdocs/release/1.20.0-notes.html#deprecations\n",
      "  data_orignal.describe(include = [np.object]).T\n"
     ]
    },
    {
     "data": {
      "text/html": [
       "<div>\n",
       "<style scoped>\n",
       "    .dataframe tbody tr th:only-of-type {\n",
       "        vertical-align: middle;\n",
       "    }\n",
       "\n",
       "    .dataframe tbody tr th {\n",
       "        vertical-align: top;\n",
       "    }\n",
       "\n",
       "    .dataframe thead th {\n",
       "        text-align: right;\n",
       "    }\n",
       "</style>\n",
       "<table border=\"1\" class=\"dataframe\">\n",
       "  <thead>\n",
       "    <tr style=\"text-align: right;\">\n",
       "      <th></th>\n",
       "      <th>count</th>\n",
       "      <th>unique</th>\n",
       "      <th>top</th>\n",
       "      <th>freq</th>\n",
       "    </tr>\n",
       "  </thead>\n",
       "  <tbody>\n",
       "    <tr>\n",
       "      <th>gender</th>\n",
       "      <td>50000</td>\n",
       "      <td>2</td>\n",
       "      <td>male</td>\n",
       "      <td>25815</td>\n",
       "    </tr>\n",
       "    <tr>\n",
       "      <th>topic</th>\n",
       "      <td>50000</td>\n",
       "      <td>40</td>\n",
       "      <td>indUnk</td>\n",
       "      <td>17560</td>\n",
       "    </tr>\n",
       "    <tr>\n",
       "      <th>sign</th>\n",
       "      <td>50000</td>\n",
       "      <td>12</td>\n",
       "      <td>Aries</td>\n",
       "      <td>7795</td>\n",
       "    </tr>\n",
       "    <tr>\n",
       "      <th>text</th>\n",
       "      <td>50000</td>\n",
       "      <td>49038</td>\n",
       "      <td></td>\n",
       "      <td>193</td>\n",
       "    </tr>\n",
       "  </tbody>\n",
       "</table>\n",
       "</div>"
      ],
      "text/plain": [
       "        count unique     top   freq\n",
       "gender  50000      2    male  25815\n",
       "topic   50000     40  indUnk  17560\n",
       "sign    50000     12   Aries   7795\n",
       "text    50000  49038            193"
      ]
     },
     "execution_count": 25,
     "metadata": {},
     "output_type": "execute_result"
    }
   ],
   "source": [
    "data_orignal.describe(include = [np.object]).T\n",
    "\n",
    "\n",
    "\n",
    "##  we can convert [\"gender\", \"topic\", \"sign\"] as catagorical features "
   ]
  },
  {
   "cell_type": "code",
   "execution_count": 26,
   "metadata": {
    "id": "czt--wL_OmAg"
   },
   "outputs": [],
   "source": [
    "## let's do some memory analysis for dataframe and try reducing whenever possible\n",
    "\n",
    "orignal_mem = data_orignal.memory_usage(deep=True)"
   ]
  },
  {
   "cell_type": "code",
   "execution_count": 27,
   "metadata": {
    "colab": {
     "base_uri": "https://localhost:8080/"
    },
    "id": "UzMZHh3jOmAk",
    "outputId": "84dc4d9e-cc31-4fb1-fc19-5edc8658d8cc"
   },
   "outputs": [
    {
     "data": {
      "text/plain": [
       "Index          128\n",
       "gender     3098370\n",
       "age         400000\n",
       "topic      3246913\n",
       "sign       3170411\n",
       "text      43401758\n",
       "dtype: int64"
      ]
     },
     "execution_count": 27,
     "metadata": {},
     "output_type": "execute_result"
    }
   ],
   "source": [
    "orignal_mem\n"
   ]
  },
  {
   "cell_type": "code",
   "execution_count": 28,
   "metadata": {
    "colab": {
     "base_uri": "https://localhost:8080/"
    },
    "id": "Lo8p32aZOmAw",
    "outputId": "4681fc34-4f42-493c-f3cf-535bb29ecc79"
   },
   "outputs": [
    {
     "data": {
      "text/plain": [
       "male      25815\n",
       "female    24185\n",
       "Name: gender, dtype: int64"
      ]
     },
     "execution_count": 28,
     "metadata": {},
     "output_type": "execute_result"
    }
   ],
   "source": [
    "data_orignal.gender.value_counts()"
   ]
  },
  {
   "cell_type": "code",
   "execution_count": 29,
   "metadata": {
    "colab": {
     "base_uri": "https://localhost:8080/",
     "height": 954
    },
    "id": "PzbNsCz1OmAz",
    "outputId": "21af9a90-0448-4927-ad97-542e31adc6e0"
   },
   "outputs": [
    {
     "data": {
      "text/plain": [
       "<AxesSubplot:xlabel='age', ylabel='count'>"
      ]
     },
     "execution_count": 29,
     "metadata": {},
     "output_type": "execute_result"
    },
    {
     "data": {
      "image/png": "[encoded data removed]",
      "text/plain": [
       "<Figure size 1080x1152 with 1 Axes>"
      ]
     },
     "metadata": {},
     "output_type": "display_data"
    }
   ],
   "source": [
    "sns.countplot(x=\"age\", data=data_orignal)"
   ]
  },
  {
   "cell_type": "code",
   "execution_count": 30,
   "metadata": {
    "colab": {
     "base_uri": "https://localhost:8080/",
     "height": 954
    },
    "id": "VNnZnCn2OmA3",
    "outputId": "74c93c3b-a6c9-4413-fa4f-c49c81e862a7"
   },
   "outputs": [
    {
     "data": {
      "text/plain": [
       "<AxesSubplot:xlabel='age', ylabel='count'>"
      ]
     },
     "execution_count": 30,
     "metadata": {},
     "output_type": "execute_result"
    },
    {
     "data": {
      "image/png": "[encoded data removed]",
      "text/plain": [
       "<Figure size 1080x1152 with 1 Axes>"
      ]
     },
     "metadata": {},
     "output_type": "display_data"
    }
   ],
   "source": [
    "sns.countplot(x=\"age\", hue=\"gender\", data=data_orignal)"
   ]
  },
  {
   "cell_type": "code",
   "execution_count": 31,
   "metadata": {
    "colab": {
     "base_uri": "https://localhost:8080/",
     "height": 954
    },
    "id": "nNGKrKIEOmA6",
    "outputId": "ed9699c8-c54d-45a1-b164-b3e54803481c"
   },
   "outputs": [
    {
     "data": {
      "text/plain": [
       "<AxesSubplot:xlabel='topic', ylabel='count'>"
      ]
     },
     "execution_count": 31,
     "metadata": {},
     "output_type": "execute_result"
    },
    {
     "data": {
      "image/png": "[encoded data removed]",
      "text/plain": [
       "<Figure size 1080x1152 with 1 Axes>"
      ]
     },
     "metadata": {},
     "output_type": "display_data"
    }
   ],
   "source": [
    "sns.countplot(x=\"topic\", hue=\"gender\", data=data_orignal)"
   ]
  },
  {
   "cell_type": "markdown",
   "metadata": {
    "id": "XTOczLJrOmA-"
   },
   "source": [
    "### Merge labels for multi-label classification problem \n",
    "\n",
    "       Label columns to merge : [\"gender\", \"age\", \"topic\", \"sign\"]\n",
    "       \n",
    "       \n",
    "       Reduce dataset to \n",
    "           dataset --> dataset[text, labels]\n",
    "       "
   ]
  },
  {
   "cell_type": "code",
   "execution_count": 32,
   "metadata": {
    "id": "mAtMt0L4OmBA"
   },
   "outputs": [],
   "source": [
    "data_orignal[\"age\"] = data_orignal[\"age\"].astype(str)\n",
    "data_orignal[\"labels\"] = data_orignal.apply(lambda col :\n",
    "                            [col[\"gender\"],col[\"age\"],col[\"topic\"],col[\"sign\"]],axis =1)"
   ]
  },
  {
   "cell_type": "code",
   "execution_count": 33,
   "metadata": {
    "colab": {
     "base_uri": "https://localhost:8080/"
    },
    "id": "SUIcwobnOmBE",
    "outputId": "1511dbac-0538-4bc9-ecc8-6378fcb914e7"
   },
   "outputs": [
    {
     "data": {
      "text/plain": [
       "25"
      ]
     },
     "execution_count": 33,
     "metadata": {},
     "output_type": "execute_result"
    }
   ],
   "source": [
    "data_orignal.drop(columns=[\"gender\",\"age\",\"sign\",\"topic\"],axis =1, inplace = True)\n",
    "gc.collect()"
   ]
  },
  {
   "cell_type": "code",
   "execution_count": 34,
   "metadata": {
    "colab": {
     "base_uri": "https://localhost:8080/",
     "height": 359
    },
    "id": "NcN9h1UXOmBH",
    "outputId": "08e3a4a2-31d7-4554-c813-834c2610bc6e"
   },
   "outputs": [
    {
     "data": {
      "text/html": [
       "<div>\n",
       "<style scoped>\n",
       "    .dataframe tbody tr th:only-of-type {\n",
       "        vertical-align: middle;\n",
       "    }\n",
       "\n",
       "    .dataframe tbody tr th {\n",
       "        vertical-align: top;\n",
       "    }\n",
       "\n",
       "    .dataframe thead th {\n",
       "        text-align: right;\n",
       "    }\n",
       "</style>\n",
       "<table border=\"1\" class=\"dataframe\">\n",
       "  <thead>\n",
       "    <tr style=\"text-align: right;\">\n",
       "      <th></th>\n",
       "      <th>text</th>\n",
       "      <th>labels</th>\n",
       "    </tr>\n",
       "  </thead>\n",
       "  <tbody>\n",
       "    <tr>\n",
       "      <th>0</th>\n",
       "      <td>not even sure well dumb ass j trying get ahold...</td>\n",
       "      <td>[female, 25, indUnk, Aquarius]</td>\n",
       "    </tr>\n",
       "    <tr>\n",
       "      <th>1</th>\n",
       "      <td>becky blog becky blog sorry good evening morta...</td>\n",
       "      <td>[male, 17, Student, Cancer]</td>\n",
       "    </tr>\n",
       "    <tr>\n",
       "      <th>2</th>\n",
       "      <td>noone blooged today wow im the first whooohoooo</td>\n",
       "      <td>[female, 17, Student, Capricorn]</td>\n",
       "    </tr>\n",
       "    <tr>\n",
       "      <th>3</th>\n",
       "      <td>my tastes music vary slightly i like kinds roc...</td>\n",
       "      <td>[female, 17, Student, Capricorn]</td>\n",
       "    </tr>\n",
       "    <tr>\n",
       "      <th>4</th>\n",
       "      <td>saturday december 14 2002 i didnt go work toda...</td>\n",
       "      <td>[female, 24, indUnk, Libra]</td>\n",
       "    </tr>\n",
       "    <tr>\n",
       "      <th>5</th>\n",
       "      <td>its nice icky outside great way start weekend ...</td>\n",
       "      <td>[female, 24, indUnk, Libra]</td>\n",
       "    </tr>\n",
       "    <tr>\n",
       "      <th>6</th>\n",
       "      <td>hal i well way sunny phoenix february why stay...</td>\n",
       "      <td>[male, 36, Fashion, Aries]</td>\n",
       "    </tr>\n",
       "    <tr>\n",
       "      <th>7</th>\n",
       "      <td>i think americans read seymour hersh articles ...</td>\n",
       "      <td>[male, 36, Fashion, Aries]</td>\n",
       "    </tr>\n",
       "    <tr>\n",
       "      <th>8</th>\n",
       "      <td>heres second ten minute turn computer i active...</td>\n",
       "      <td>[male, 15, Student, Gemini]</td>\n",
       "    </tr>\n",
       "    <tr>\n",
       "      <th>9</th>\n",
       "      <td>long live aquarians happy 26th birthday patric...</td>\n",
       "      <td>[female, 26, indUnk, Aquarius]</td>\n",
       "    </tr>\n",
       "  </tbody>\n",
       "</table>\n",
       "</div>"
      ],
      "text/plain": [
       "                                                text  \\\n",
       "0  not even sure well dumb ass j trying get ahold...   \n",
       "1  becky blog becky blog sorry good evening morta...   \n",
       "2    noone blooged today wow im the first whooohoooo   \n",
       "3  my tastes music vary slightly i like kinds roc...   \n",
       "4  saturday december 14 2002 i didnt go work toda...   \n",
       "5  its nice icky outside great way start weekend ...   \n",
       "6  hal i well way sunny phoenix february why stay...   \n",
       "7  i think americans read seymour hersh articles ...   \n",
       "8  heres second ten minute turn computer i active...   \n",
       "9  long live aquarians happy 26th birthday patric...   \n",
       "\n",
       "                             labels  \n",
       "0    [female, 25, indUnk, Aquarius]  \n",
       "1       [male, 17, Student, Cancer]  \n",
       "2  [female, 17, Student, Capricorn]  \n",
       "3  [female, 17, Student, Capricorn]  \n",
       "4       [female, 24, indUnk, Libra]  \n",
       "5       [female, 24, indUnk, Libra]  \n",
       "6        [male, 36, Fashion, Aries]  \n",
       "7        [male, 36, Fashion, Aries]  \n",
       "8       [male, 15, Student, Gemini]  \n",
       "9    [female, 26, indUnk, Aquarius]  "
      ]
     },
     "execution_count": 34,
     "metadata": {},
     "output_type": "execute_result"
    }
   ],
   "source": [
    "data_orignal.head(10)"
   ]
  },
  {
   "cell_type": "markdown",
   "metadata": {
    "id": "CBFJPOCNOmBK"
   },
   "source": [
    "### Create train and test dataset\n",
    "\n",
    "    Let's create a simple train and test dataset then create a cross validation too"
   ]
  },
  {
   "cell_type": "code",
   "execution_count": 35,
   "metadata": {
    "id": "WUygCCKHOmBL"
   },
   "outputs": [],
   "source": [
    "from sklearn.model_selection import train_test_split\n",
    "\n",
    "X = data_orignal.text\n",
    "y = data_orignal.labels\n",
    "\n",
    "X_train, X_test, y_train, y_test =train_test_split(X,y, random_state=42,\n",
    "                                                   test_size = 0.1,\n",
    "                                                  shuffle = True)"
   ]
  },
  {
   "cell_type": "code",
   "execution_count": null,
   "metadata": {
    "id": "SGhtWN8KARN-"
   },
   "outputs": [],
   "source": []
  },
  {
   "cell_type": "code",
   "execution_count": null,
   "metadata": {
    "id": "L9fJBZGgOmBR"
   },
   "outputs": [],
   "source": []
  },
  {
   "cell_type": "code",
   "execution_count": 36,
   "metadata": {
    "colab": {
     "base_uri": "https://localhost:8080/"
    },
    "id": "653UO8VeOmBU",
    "outputId": "2c2f2818-80a4-44ea-b936-3d3d17322389"
   },
   "outputs": [
    {
     "name": "stdout",
     "output_type": "stream",
     "text": [
      "shape of training set : (45000,)\n",
      "shape of test set : (5000,)\n"
     ]
    },
    {
     "data": {
      "text/plain": [
       "0"
      ]
     },
     "execution_count": 36,
     "metadata": {},
     "output_type": "execute_result"
    }
   ],
   "source": [
    "print(\"shape of training set :\", X_train.shape)\n",
    "print(\"shape of test set :\", X_test.shape)\n",
    "\n",
    "gc.collect()"
   ]
  },
  {
   "cell_type": "markdown",
   "metadata": {
    "id": "lhNdrJNPOmBY"
   },
   "source": [
    "### Vectorizing the features \n",
    "\n",
    "    1. Bag of words \n",
    "    2. TfIDF\n",
    "    \n",
    "    \n",
    "    \n",
    "  #### Counte Vectorizer on BoW \n",
    "  "
   ]
  },
  {
   "cell_type": "code",
   "execution_count": 37,
   "metadata": {
    "id": "Oph5VDhTOmBZ"
   },
   "outputs": [
    {
     "data": {
      "text/plain": [
       "0"
      ]
     },
     "execution_count": 37,
     "metadata": {},
     "output_type": "execute_result"
    }
   ],
   "source": [
    "from sklearn.feature_extraction.text import TfidfVectorizer, CountVectorizer\n",
    "\n",
    "ctv = CountVectorizer(analyzer='word', token_pattern=r'\\w{1,}', \n",
    "                      ngram_range=(1, 3), stop_words = 'english')\n",
    "\n",
    "corpus = list(X_train)+list(X_test)\n",
    "gc.collect()"
   ]
  },
  {
   "cell_type": "code",
   "execution_count": 40,
   "metadata": {
    "colab": {
     "base_uri": "https://localhost:8080/"
    },
    "id": "jZyzA5lCBQCa",
    "outputId": "cbd8686a-ed19-461b-c0f0-77f45110521d"
   },
   "outputs": [
    {
     "data": {
      "text/plain": [
       "CountVectorizer(analyzer='word', binary=False, decode_error='strict',\n",
       "                dtype=<class 'numpy.int64'>, encoding='utf-8', input='content',\n",
       "                lowercase=True, max_df=1.0, max_features=None, min_df=1,\n",
       "                ngram_range=(1, 3), preprocessor=None, stop_words='english',\n",
       "                strip_accents=None, token_pattern='\\\\w{1,}', tokenizer=None,\n",
       "                vocabulary=None)"
      ]
     },
     "execution_count": 40,
     "metadata": {
      "tags": []
     },
     "output_type": "execute_result"
    }
   ],
   "source": [
    "ctv.fit(corpus)"
   ]
  },
  {
   "cell_type": "code",
   "execution_count": 41,
   "metadata": {
    "id": "h95O_aoxBQyW"
   },
   "outputs": [],
   "source": [
    "# gc.collect()\n",
    "xtrain_ctv = ctv.transform(X_train)\n"
   ]
  },
  {
   "cell_type": "code",
   "execution_count": 42,
   "metadata": {
    "id": "GGZmqrwaCJT2"
   },
   "outputs": [],
   "source": [
    "# gc.collect()\n",
    "xtest_ctv = ctv.transform(X_test)"
   ]
  },
  {
   "cell_type": "code",
   "execution_count": 43,
   "metadata": {
    "colab": {
     "base_uri": "https://localhost:8080/"
    },
    "id": "TIIDu0xbOmBd",
    "outputId": "261511f6-29dd-4a86-cb9a-e17715c848c4"
   },
   "outputs": [
    {
     "name": "stdout",
     "output_type": "stream",
     "text": [
      "7347763\n"
     ]
    }
   ],
   "source": [
    "print(len(ctv.vocabulary_))"
   ]
  },
  {
   "cell_type": "code",
   "execution_count": 44,
   "metadata": {
    "colab": {
     "base_uri": "https://localhost:8080/"
    },
    "id": "091tXcJ5OmBg",
    "outputId": "796e3487-4ff1-46d7-ce85-7d4a5793a938"
   },
   "outputs": [
    {
     "data": {
      "text/plain": [
       "['0',\n",
       " '0 0',\n",
       " '0 0 0',\n",
       " '0 0 1',\n",
       " '0 0 draw',\n",
       " '0 0 h',\n",
       " '0 0 italy',\n",
       " '0 0 o',\n",
       " '0 0 switzerland',\n",
       " '0 0 theos']"
      ]
     },
     "execution_count": 44,
     "metadata": {
      "tags": []
     },
     "output_type": "execute_result"
    }
   ],
   "source": [
    "ctv.get_feature_names()[:10]"
   ]
  },
  {
   "cell_type": "markdown",
   "metadata": {},
   "source": [
    "####  TF-IDF (Term Frequency - Inverse Document Frequency)"
   ]
  },
  {
   "cell_type": "code",
   "execution_count": 38,
   "metadata": {},
   "outputs": [
    {
     "data": {
      "text/plain": [
       "0"
      ]
     },
     "execution_count": 38,
     "metadata": {},
     "output_type": "execute_result"
    }
   ],
   "source": [
    "tfv = TfidfVectorizer(min_df=3,  max_features=None, \n",
    "            strip_accents='unicode', analyzer='word',token_pattern=r'\\w{1,}',\n",
    "            ngram_range=(1, 3), use_idf=1,smooth_idf=1,sublinear_tf=1,\n",
    "            stop_words = 'english')\n",
    "\n",
    "\n",
    "# Fitting TF-IDF to both training and test sets (semi-supervised learning)\n",
    "tfv.fit(list(X_train) + list(X_test))\n",
    "xtrain_tfv =  tfv.transform(X_train) \n",
    "xvalid_tfv = tfv.transform(X_test)\n",
    "\n",
    "\n",
    "gc.collect()"
   ]
  },
  {
   "cell_type": "markdown",
   "metadata": {
    "id": "aJosDserOmBr"
   },
   "source": [
    "### Create a dictionary to get the count of every label \n",
    "    The key will be label name and value will be the total count of the label. Check below image for reference"
   ]
  },
  {
   "cell_type": "code",
   "execution_count": 46,
   "metadata": {
    "colab": {
     "base_uri": "https://localhost:8080/"
    },
    "id": "AZbZSlirOmBs",
    "outputId": "3479ec7d-80d3-4805-c855-968a0164ade1"
   },
   "outputs": [
    {
     "data": {
      "text/plain": [
       "{'13': 745,\n",
       " '14': 2043,\n",
       " '15': 3508,\n",
       " '16': 4156,\n",
       " '17': 6859,\n",
       " '23': 5518,\n",
       " '24': 5746,\n",
       " '25': 2837,\n",
       " '26': 2869,\n",
       " '27': 4094,\n",
       " '33': 1654,\n",
       " '34': 1886,\n",
       " '35': 3365,\n",
       " '36': 1985,\n",
       " '37': 310,\n",
       " '38': 196,\n",
       " '39': 412,\n",
       " '40': 192,\n",
       " '41': 394,\n",
       " '42': 96,\n",
       " '43': 150,\n",
       " '44': 38,\n",
       " '45': 93,\n",
       " '46': 330,\n",
       " '47': 206,\n",
       " '48': 318,\n",
       " 'Accounting': 364,\n",
       " 'Advertising': 273,\n",
       " 'Agriculture': 78,\n",
       " 'Aquarius': 4784,\n",
       " 'Architecture': 70,\n",
       " 'Aries': 7795,\n",
       " 'Arts': 1817,\n",
       " 'Automotive': 116,\n",
       " 'Banking': 283,\n",
       " 'Biotech': 101,\n",
       " 'BusinessServices': 416,\n",
       " 'Cancer': 4589,\n",
       " 'Capricorn': 3819,\n",
       " 'Chemicals': 75,\n",
       " 'Communications-Media': 1603,\n",
       " 'Construction': 28,\n",
       " 'Consulting': 243,\n",
       " 'Education': 2646,\n",
       " 'Engineering': 1402,\n",
       " 'Environment': 6,\n",
       " 'Fashion': 1805,\n",
       " 'Gemini': 2558,\n",
       " 'Government': 599,\n",
       " 'HumanResources': 79,\n",
       " 'Internet': 1420,\n",
       " 'InvestmentBanking': 85,\n",
       " 'Law': 308,\n",
       " 'LawEnforcement-Security': 125,\n",
       " 'Leo': 3904,\n",
       " 'Libra': 4378,\n",
       " 'Manufacturing': 441,\n",
       " 'Maritime': 54,\n",
       " 'Marketing': 414,\n",
       " 'Military': 194,\n",
       " 'Museums-Libraries': 285,\n",
       " 'Non-Profit': 491,\n",
       " 'Pisces': 4142,\n",
       " 'Publishing': 207,\n",
       " 'RealEstate': 17,\n",
       " 'Religion': 258,\n",
       " 'Sagittarius': 4571,\n",
       " 'Science': 705,\n",
       " 'Scorpio': 3243,\n",
       " 'Sports-Recreation': 120,\n",
       " 'Student': 10660,\n",
       " 'Taurus': 3390,\n",
       " 'Technology': 4379,\n",
       " 'Telecommunications': 12,\n",
       " 'Tourism': 65,\n",
       " 'Transportation': 196,\n",
       " 'Virgo': 2827,\n",
       " 'female': 24185,\n",
       " 'indUnk': 17560,\n",
       " 'male': 25815}"
      ]
     },
     "execution_count": 46,
     "metadata": {
      "tags": []
     },
     "output_type": "execute_result"
    }
   ],
   "source": [
    "label_counts=dict()\n",
    "\n",
    "for labels in data_orignal.labels.values:\n",
    "    for label in labels:\n",
    "        if label in label_counts:\n",
    "            label_counts[str(label)]+=1\n",
    "        else:\n",
    "            label_counts[str(label)]=1\n",
    "        \n",
    "label_counts\n",
    "\n",
    "\n",
    "# gc.collect()"
   ]
  },
  {
   "cell_type": "markdown",
   "metadata": {
    "id": "lbfM-RlvOmBv"
   },
   "source": [
    "### Transform the labels\n",
    "\n",
    "\n",
    "    Transform between iterable of iterables and a multilabel format\n",
    "    \n",
    "    As we have noticed before, in this task each example can have multiple tags. To deal with such kind of prediction, we need to transform labels in a binary form and the prediction will be a mask of 0s and 1s. For this purpose, it is convenient to use MultiLabelBinarizer from sklearn a. Convert your train and test labels using MultiLabelBinarizer"
   ]
  },
  {
   "cell_type": "code",
   "execution_count": 47,
   "metadata": {
    "id": "Mpi7YHZuOmBw"
   },
   "outputs": [],
   "source": [
    "from sklearn.preprocessing import MultiLabelBinarizer\n",
    "\n",
    "# Transform between iterable of iterables and a multilabel format\n",
    "binarizer=MultiLabelBinarizer(classes=sorted(label_counts.keys()))\n",
    "\n",
    "\n",
    "y_train = binarizer.fit_transform(y_train)\n",
    "y_test = binarizer.transform(y_test)"
   ]
  },
  {
   "cell_type": "code",
   "execution_count": 47,
   "metadata": {
    "id": "o0kfUW83P2R0"
   },
   "outputs": [],
   "source": []
  },
  {
   "cell_type": "code",
   "execution_count": 48,
   "metadata": {
    "colab": {
     "base_uri": "https://localhost:8080/"
    },
    "id": "8eGpqHJcOmB2",
    "outputId": "71e5f45d-ca5a-4b88-80be-5ab940ab66de"
   },
   "outputs": [
    {
     "data": {
      "text/plain": [
       "array([[0, 0, 0, ..., 0, 1, 1],\n",
       "       [0, 0, 0, ..., 1, 0, 0],\n",
       "       [0, 0, 0, ..., 0, 1, 1],\n",
       "       ...,\n",
       "       [0, 0, 0, ..., 0, 0, 1],\n",
       "       [0, 0, 0, ..., 1, 1, 0],\n",
       "       [0, 0, 0, ..., 0, 0, 1]])"
      ]
     },
     "execution_count": 48,
     "metadata": {
      "tags": []
     },
     "output_type": "execute_result"
    }
   ],
   "source": [
    "y_train\n"
   ]
  },
  {
   "cell_type": "markdown",
   "metadata": {
    "id": "gzaUW3FBOmB7"
   },
   "source": [
    "### Multi-Label Classification Techniques\n",
    "\n",
    "    Most traditional learning algorithms are developed for single-label classification problems. Therefore a lot of approaches in the literature transform the multi-label problem into multiple single-label problems, so that the existing single-label algorithms can be used."
   ]
  },
  {
   "cell_type": "markdown",
   "metadata": {
    "id": "8q942sI3OmB8"
   },
   "source": [
    "### Accuracy metric \n",
    "\n",
    "\n",
    "Before diving into preparing models , let's settle with Metrics to measure prediction score\n",
    "\n",
    "        1. Accuracy score\n",
    "        2. F1 Score\n",
    "        3. Average precision score : \n",
    "            3.1 Macro averaged precision: calculate precision for all classes\n",
    "                individually and then average them\n",
    "            3.2 Micro averaged precision: calculate class wise true positive and false\n",
    "                positive and then use that to calculate overall precision\n",
    "        4. Average recall score\n",
    "\n"
   ]
  },
  {
   "cell_type": "code",
   "execution_count": 49,
   "metadata": {
    "id": "_u1viP9mOmB8"
   },
   "outputs": [],
   "source": [
    "from sklearn.metrics import accuracy_score\n",
    "from sklearn.metrics import f1_score\n",
    "from sklearn.metrics import average_precision_score\n",
    "from sklearn.metrics import recall_score\n",
    "\n",
    "def display_metrics_micro(Ytest, Ypred):\n",
    "    print('Accuracy score: ', accuracy_score(Ytest, Ypred))\n",
    "    print('F1 score: Micro', f1_score(Ytest, Ypred, average='micro'))\n",
    "    print('Average precision score: Micro', average_precision_score(Ytest, Ypred, average='micro'))\n",
    "    print('Average recall score: Micro', recall_score(Ytest, Ypred, average='micro'))\n",
    "    \n",
    "    \n",
    "def display_metrics_macro(Ytest, Ypred):\n",
    "    print('Accuracy score: ', accuracy_score(Ytest, Ypred))\n",
    "    print('F1 score: Macro', f1_score(Ytest, Ypred, average='macro'))\n",
    "    print('Average recall score: MAcro', recall_score(Ytest, Ypred, average='macro'))\n",
    "    \n",
    "def display_metrics_weighted(Ytest, Ypred):\n",
    "    print('Accuracy score: ', accuracy_score(Ytest, Ypred))\n",
    "    print('F1 score: weighted', f1_score(Ytest, Ypred, average='weighted'))\n",
    "    print('Average precision score: weighted', average_precision_score(Ytest, Ypred, average='weighted'))\n",
    "    print('Average recall score: weighted', recall_score(Ytest, Ypred, average='weighted'))"
   ]
  },
  {
   "cell_type": "markdown",
   "metadata": {
    "id": "kw5sXfhAOmCA"
   },
   "source": [
    "### 1. OneVsRest\n",
    "\n",
    "    Traditional two-class and multi-class problems can both be cast into multi-label ones by restricting each instance to have only one label. On the other hand, the generality of multi-label problems inevitably makes it more difficult to learn. An intuitive approach to solving multi-label problem is to decompose it into multiple independent binary classification problems (one per category).\n",
    "    \n",
    "    In an “one-to-rest” strategy, one could build multiple independent classifiers and, for an unseen instance, choose the class for which the confidence is maximized.\n",
    "    \n",
    "    The main assumption here is that the labels are mutually exclusive. You do not consider any underlying correlation between the classes in this method.\n",
    "    \n",
    "    "
   ]
  },
  {
   "cell_type": "code",
   "execution_count": 50,
   "metadata": {
    "id": "cNrMZJj8OmCB"
   },
   "outputs": [],
   "source": [
    "from sklearn.linear_model import LogisticRegression\n",
    "from sklearn.pipeline import Pipeline\n",
    "from sklearn.metrics import accuracy_score\n",
    "from sklearn.multiclass import OneVsRestClassifier\n",
    "\n",
    "# Using pipeline for applying logistic regression and one vs rest classifier\n",
    "LogReg_pipeline = Pipeline([\n",
    "                ('clf', OneVsRestClassifier(LogisticRegression(solver='sag'),\n",
    "                    n_jobs=-1)),])\n",
    "LogReg_pipeline.fit(xtrain_ctv, y_train)\n",
    "\n",
    "Y_predicted_oneVsRest = LogReg_pipeline.predict(xtest_ctv)\n",
    "\n"
   ]
  },
  {
   "cell_type": "markdown",
   "metadata": {
    "id": "jV2ByrapOmCD"
   },
   "source": [
    "##### To Try :\n",
    " 1. Bianry Relevance\n",
    " 2. Classifier Chains\n",
    " 3. Label Powerset \n",
    " 4. Adapted Algorithm\n",
    " "
   ]
  },
  {
   "cell_type": "code",
   "execution_count": 51,
   "metadata": {
    "colab": {
     "base_uri": "https://localhost:8080/"
    },
    "id": "_l1CuF6JOmCE",
    "outputId": "a05da3d0-895a-479d-87df-1019627bb39f"
   },
   "outputs": [
    {
     "name": "stdout",
     "output_type": "stream",
     "text": [
      "Accuracy score:  0.0022\n",
      "F1 score: Micro 0.24673046251993624\n",
      "Average precision score: Micro 0.13648582677165355\n",
      "Average recall score: Micro 0.1547\n"
     ]
    }
   ],
   "source": [
    "display_metrics_micro(y_test,Y_predicted_oneVsRest)"
   ]
  },
  {
   "cell_type": "code",
   "execution_count": 52,
   "metadata": {
    "colab": {
     "base_uri": "https://localhost:8080/"
    },
    "id": "Dssyvq3-OmCJ",
    "outputId": "a646c0cd-ff7e-4c0c-a4a1-bac48a89c238"
   },
   "outputs": [
    {
     "name": "stdout",
     "output_type": "stream",
     "text": [
      "Accuracy score:  0.0022\n",
      "F1 score: Macro 0.019446957520449178\n",
      "Average recall score: MAcro 0.01754240529598053\n"
     ]
    },
    {
     "name": "stderr",
     "output_type": "stream",
     "text": [
      "/usr/local/lib/python3.6/dist-packages/sklearn/metrics/_classification.py:1515: UndefinedMetricWarning: F-score is ill-defined and being set to 0.0 in labels with no true nor predicted samples. Use `zero_division` parameter to control this behavior.\n",
      "  average, \"true nor predicted\", 'F-score is', len(true_sum)\n",
      "/usr/local/lib/python3.6/dist-packages/sklearn/metrics/_classification.py:1272: UndefinedMetricWarning: Recall is ill-defined and being set to 0.0 in labels with no true samples. Use `zero_division` parameter to control this behavior.\n",
      "  _warn_prf(average, modifier, msg_start, len(result))\n"
     ]
    }
   ],
   "source": [
    "display_metrics_macro(y_test,Y_predicted_oneVsRest)"
   ]
  },
  {
   "cell_type": "code",
   "execution_count": 53,
   "metadata": {
    "colab": {
     "base_uri": "https://localhost:8080/"
    },
    "id": "6rfHIWkoOmCM",
    "outputId": "4e549b9c-28f6-4983-8029-a7e552dcb78e"
   },
   "outputs": [
    {
     "name": "stdout",
     "output_type": "stream",
     "text": [
      "Accuracy score:  0.0022\n",
      "F1 score: weighted 0.15633819410458452\n"
     ]
    },
    {
     "name": "stderr",
     "output_type": "stream",
     "text": [
      "/usr/local/lib/python3.6/dist-packages/sklearn/metrics/_classification.py:1515: UndefinedMetricWarning: F-score is ill-defined and being set to 0.0 in labels with no true nor predicted samples. Use `zero_division` parameter to control this behavior.\n",
      "  average, \"true nor predicted\", 'F-score is', len(true_sum)\n",
      "/usr/local/lib/python3.6/dist-packages/sklearn/metrics/_ranking.py:677: RuntimeWarning: invalid value encountered in true_divide\n",
      "  recall = tps / tps[-1]\n"
     ]
    },
    {
     "name": "stdout",
     "output_type": "stream",
     "text": [
      "Average precision score: weighted 0.23267366534151193\n",
      "Average recall score: weighted 0.1547\n"
     ]
    },
    {
     "name": "stderr",
     "output_type": "stream",
     "text": [
      "/usr/local/lib/python3.6/dist-packages/sklearn/metrics/_classification.py:1272: UndefinedMetricWarning: Recall is ill-defined and being set to 0.0 in labels with no true samples. Use `zero_division` parameter to control this behavior.\n",
      "  _warn_prf(average, modifier, msg_start, len(result))\n"
     ]
    }
   ],
   "source": [
    "display_metrics_weighted(y_test,Y_predicted_oneVsRest)"
   ]
  },
  {
   "cell_type": "code",
   "execution_count": null,
   "metadata": {
    "id": "wRoIRfXVOmCP"
   },
   "outputs": [],
   "source": []
  },
  {
   "cell_type": "markdown",
   "metadata": {
    "id": "kEWC1MUjOmCS"
   },
   "source": [
    "### Let's check for any 5 inputs and there predicted labels\n",
    "Print true label and predicted label for any five examples\n"
   ]
  },
  {
   "cell_type": "code",
   "execution_count": 54,
   "metadata": {
    "id": "UqUClYD5OmCT"
   },
   "outputs": [],
   "source": [
    "import random \n",
    "\n",
    "def print_predicted(y_predicted, y_test = y_test , n = 5):\n",
    "    j = []\n",
    "    for i in range(n):\n",
    "        j.append(random.randint(0, len(y_test)))\n",
    "    print(j)\n",
    "                 \n",
    "    for k in j:\n",
    "        print(binarizer.inverse_transform(y_predicted)[k])\n",
    "        print(binarizer.inverse_transform(y_test)[k])\n",
    "        print(\"=================x==================x================x==========\")\n",
    "                \n",
    "                 \n",
    "        "
   ]
  },
  {
   "cell_type": "code",
   "execution_count": 56,
   "metadata": {
    "colab": {
     "base_uri": "https://localhost:8080/"
    },
    "id": "ygipZLT7OmCX",
    "outputId": "f0af1458-2fba-4faa-cf8f-850e221126fb"
   },
   "outputs": [
    {
     "name": "stdout",
     "output_type": "stream",
     "text": [
      "[3584, 3761, 1351, 3503, 4485, 40, 3105, 718, 4185, 3837]\n",
      "('female',)\n",
      "('23', 'Publishing', 'Sagittarius', 'male')\n",
      "=================x==================x================x==========\n",
      "('female',)\n",
      "('17', 'Pisces', 'Student', 'female')\n",
      "=================x==================x================x==========\n",
      "('female',)\n",
      "('23', 'Marketing', 'Scorpio', 'male')\n",
      "=================x==================x================x==========\n",
      "('female',)\n",
      "('27', 'Taurus', 'female', 'indUnk')\n",
      "=================x==================x================x==========\n",
      "('female',)\n",
      "('17', 'Capricorn', 'Student', 'female')\n",
      "=================x==================x================x==========\n",
      "('male',)\n",
      "('26', 'Internet', 'Taurus', 'female')\n",
      "=================x==================x================x==========\n",
      "('male',)\n",
      "('16', 'Sagittarius', 'Student', 'male')\n",
      "=================x==================x================x==========\n",
      "('male',)\n",
      "('27', 'Aquarius', 'Marketing', 'female')\n",
      "=================x==================x================x==========\n",
      "('female',)\n",
      "('24', 'Aquarius', 'Communications-Media', 'female')\n",
      "=================x==================x================x==========\n",
      "('male',)\n",
      "('27', 'Taurus', 'female', 'indUnk')\n",
      "=================x==================x================x==========\n"
     ]
    }
   ],
   "source": [
    "print_predicted(y_predicted=Y_predicted_oneVsRest,y_test=y_test, n= 10)"
   ]
  },
  {
   "cell_type": "code",
   "execution_count": 55,
   "metadata": {
    "colab": {
     "base_uri": "https://localhost:8080/"
    },
    "id": "uzbon95ZOmCb",
    "outputId": "11449d9c-5f8f-455e-e40c-2054c493a511"
   },
   "outputs": [
    {
     "name": "stdout",
     "output_type": "stream",
     "text": [
      "-----------------------------EndofKernal----------------------------------------\n"
     ]
    }
   ],
   "source": [
    "print(\"-----------------------------EndofKernal----------------------------------------\")"
   ]
  },
  {
   "cell_type": "markdown",
   "metadata": {
    "id": "RLZMTpKcfhti"
   },
   "source": [
    "## Conclusion:"
   ]
  },
  {
   "cell_type": "markdown",
   "metadata": {},
   "source": [
    "- As the size of the vocabulary increases, TfidfVectorizer would be better able to differentiate rare words and commonly occurring words while Countvectorizer would still give equal weight to all words which is undesirable. So, TfidfVectorizer will give you better performance than CountVectorizer as the size of the vocabulary increases\n",
    "- The third one performs better in terms of Accuracy, Precision, F1 score, etc"
   ]
  },
  {
   "cell_type": "code",
   "execution_count": null,
   "metadata": {},
   "outputs": [],
   "source": []
  },
  {
   "cell_type": "code",
   "execution_count": null,
   "metadata": {},
   "outputs": [],
   "source": []
  },
  {
   "cell_type": "code",
   "execution_count": null,
   "metadata": {},
   "outputs": [],
   "source": []
  },
  {
   "cell_type": "markdown",
   "metadata": {},
   "source": [
    "## Project 2: Chat-bot\n",
    "\n",
    "#### PROJECT OBJECTIVE: \n",
    "Design a python based interactive semi - rule based chatbot which can do the following:\n",
    "1. Start chat session with greetings and ask what the user is looking for. [5 Marks]\n",
    "2. Accept dynamic text based questions from the user. Reply back with relevant answer from the designed corpus. [10 Marks]\n",
    "3. End the chat session only if the user requests to end else ask what the user is looking for. Loop continues till the user asks to end it. [5 Marks]"
   ]
  },
  {
   "cell_type": "markdown",
   "metadata": {
    "id": "vixmopIVshk8"
   },
   "source": [
    "### Importing Libraries"
   ]
  },
  {
   "cell_type": "code",
   "execution_count": 39,
   "metadata": {
    "id": "wj8edLPwshk9"
   },
   "outputs": [],
   "source": [
    "# import necessary libraries\n",
    "import warnings\n",
    "warnings.filterwarnings(\"ignore\")\n",
    "import nltk\n",
    "from nltk.stem import WordNetLemmatizer\n",
    "import json\n",
    "import pickle\n",
    "\n",
    "import numpy as np\n",
    "from tensorflow.keras.models import Sequential\n",
    "from tensorflow.keras.layers import Dense, Activation, Dropout\n",
    "from tensorflow.keras.optimizers import SGD\n",
    "import random\n",
    "from keras.models import load_model\n",
    "\n",
    "# create an object of WordNetLemmatizer\n",
    "lemmatizer = WordNetLemmatizer()\n",
    "\n",
    "# importing the GL Bot corpus file for pre-processing\n",
    "\n",
    "words=[]\n",
    "classes = []\n",
    "documents = []\n",
    "ignore_words = ['?', '!']\n",
    "data_file = open(\"GL+Bot.json\").read()\n",
    "intents = json.loads(data_file)"
   ]
  },
  {
   "cell_type": "markdown",
   "metadata": {
    "id": "6MItt3kYshk-"
   },
   "source": [
    "### Data Pre-Processing"
   ]
  },
  {
   "cell_type": "code",
   "execution_count": 40,
   "metadata": {
    "colab": {
     "base_uri": "https://localhost:8080/"
    },
    "id": "Iw-nNla4shk-",
    "outputId": "a53bf808-75ae-4224-b038-93594ffb6660"
   },
   "outputs": [
    {
     "name": "stderr",
     "output_type": "stream",
     "text": [
      "[nltk_data] Downloading package punkt to\n",
      "[nltk_data]     /Users/harmanpreetsingh/nltk_data...\n",
      "[nltk_data]   Package punkt is already up-to-date!\n",
      "[nltk_data] Downloading package wordnet to\n",
      "[nltk_data]     /Users/harmanpreetsingh/nltk_data...\n",
      "[nltk_data]   Package wordnet is already up-to-date!\n"
     ]
    }
   ],
   "source": [
    "# Preprocessing the json data and tokenization\n",
    "nltk.download('punkt')\n",
    "nltk.download('wordnet')\n",
    "for intent in intents['intents']:\n",
    "    for pattern in intent['patterns']:\n",
    "\n",
    "        #tokenize each word\n",
    "        w = nltk.word_tokenize(pattern)\n",
    "        words.extend(w)\n",
    "        #add documents in the corpus\n",
    "        documents.append((w, intent['tag']))\n",
    "\n",
    "        # add to our classes list\n",
    "        if intent['tag'] not in classes:\n",
    "            classes.append(intent['tag'])"
   ]
  },
  {
   "cell_type": "code",
   "execution_count": 41,
   "metadata": {
    "colab": {
     "base_uri": "https://localhost:8080/"
    },
    "id": "-BMx_zKyshk_",
    "outputId": "25b8e5e4-bffd-4e0e-98e0-d969859ef9a6"
   },
   "outputs": [
    {
     "name": "stdout",
     "output_type": "stream",
     "text": [
      "128 documents\n",
      "8 classes ['Bot', 'Exit', 'Intro', 'NN', 'Olympus', 'Profane', 'SL', 'Ticket']\n",
      "158 unique lemmatized words ['a', 'able', 'access', 'activation', 'ada', 'adam', 'aifl', 'aiml', 'am', 'an', 'ann', 'anyone', 'are', 'artificial', 'backward', 'bad', 'bagging', 'batch', 'bayes', 'belong', 'best', 'blended', 'bloody', 'boosting', 'bot', 'buddy', 'classification', 'contact', 'create', 'cross', 'cya', 'day', 'deep', 'did', 'diffult', 'do', 'ensemble', 'epoch', 'explain', 'first', 'for', 'forest', 'forward', 'from', 'function', 'good', 'goodbye', 'gradient', 'great', 'hate', 'have', 'hell', 'hello', 'help', 'helped', 'hey', 'hi', 'hidden', 'hour', 'how', 'hyper', 'i', 'imputer', 'in', 'intelligence', 'is', 'jerk', 'joke', 'knn', 'later', 'layer', 'learner', 'learning', 'leaving', 'link', 'listen', 'logistic', 'lot', 'machine', 'me', 'ml', 'my', 'naive', 'name', 'nb', 'net', 'network', 'neural', 'no', 'not', 'of', 'olympus', 'olypus', 'on', 'online', 'operation', 'opertions', 'otimizer', 'parameter', 'piece', 'please', 'pm', 'problem', 'propagation', 'random', 'regression', 'relu', 'screw', 'see', 'sgd', 'shit', 'sigmoid', 'sl', 'smart', 'softmax', 'solution', 'solved', 'stupid', 'supervised', 'svm', 'talking', 'teach', 'techb=niques', 'technique', 'thank', 'thanks', 'the', 'there', 'think', 'ticket', 'time', 'to', 'ton', 'too', 'tool', 'unable', 'understand', 'up', 'use', 'useless', 'validation', 'very', 'visible', 'wasted', 'weight', 'what', 'whats', 'when', 'who', 'whom', 'window', 'with', 'work', 'working', 'ya', 'yo', 'you', 'your']\n"
     ]
    }
   ],
   "source": [
    "# Lemmatize, lower each word and remove duplicates\n",
    "\n",
    "words = [lemmatizer.lemmatize(w.lower()) for w in words if w not in ignore_words]\n",
    "words = sorted(list(set(words)))\n",
    "\n",
    "# sort classes\n",
    "classes = sorted(list(set(classes)))\n",
    "\n",
    "# documents = combination between patterns and intents\n",
    "print (len(documents), \"documents\")\n",
    "\n",
    "# classes = intents\n",
    "print (len(classes), \"classes\", classes)\n",
    "\n",
    "# words = all words, vocabulary\n",
    "print (len(words), \"unique lemmatized words\", words)\n",
    "\n",
    "# creating a pickle file to store the Python objects which we will use while predicting\n",
    "pickle.dump(words,open('words.pkl','wb')) \n",
    "pickle.dump(classes,open('classes.pkl','wb'))"
   ]
  },
  {
   "cell_type": "markdown",
   "metadata": {
    "id": "XR-oqJ0wshlA"
   },
   "source": [
    "### Creating Training Data"
   ]
  },
  {
   "cell_type": "code",
   "execution_count": 42,
   "metadata": {
    "colab": {
     "base_uri": "https://localhost:8080/"
    },
    "id": "LoM-44d9shlA",
    "outputId": "ad153c97-5a8c-40af-96e4-ac48a33ce809"
   },
   "outputs": [
    {
     "name": "stdout",
     "output_type": "stream",
     "text": [
      "Training data created\n"
     ]
    }
   ],
   "source": [
    "# create our training data\n",
    "training = []\n",
    "\n",
    "# create an empty array for our output\n",
    "output_empty = [0] * len(classes)\n",
    "\n",
    "# training set, bag of words for each sentence\n",
    "for doc in documents:\n",
    "    # initialize our bag of words\n",
    "    bag = []\n",
    "    # list of tokenized words for the pattern\n",
    "    pattern_words = doc[0]\n",
    "   \n",
    "    # lemmatize each word - create base word, in attempt to represent related words\n",
    "    pattern_words = [lemmatizer.lemmatize(word.lower()) for word in pattern_words]\n",
    "    \n",
    "    # create our bag of words array with 1, if word match found in current pattern\n",
    "    for w in words:\n",
    "        bag.append(1) if w in pattern_words else bag.append(0)\n",
    "    # output is a '0' for each tag and '1' for current tag (for each pattern)\n",
    "    output_row = list(output_empty)\n",
    "    output_row[classes.index(doc[1])] = 1\n",
    "    training.append([bag, output_row])\n",
    "\n",
    "# shuffle features and converting it into numpy arrays\n",
    "random.shuffle(training)\n",
    "training = np.array(training)\n",
    "\n",
    "# create train and test lists\n",
    "train_x = list(training[:,0])\n",
    "train_y = list(training[:,1])\n",
    "\n",
    "print(\"Training data created\")"
   ]
  },
  {
   "cell_type": "markdown",
   "metadata": {
    "id": "cJM2R1NHshlB"
   },
   "source": [
    "### Creating NN Model"
   ]
  },
  {
   "cell_type": "code",
   "execution_count": 43,
   "metadata": {
    "colab": {
     "base_uri": "https://localhost:8080/"
    },
    "id": "9VWroJgFshlB",
    "outputId": "bd5d5536-9377-483f-df44-27c66b7745d4"
   },
   "outputs": [
    {
     "name": "stdout",
     "output_type": "stream",
     "text": [
      "Epoch 1/200\n"
     ]
    },
    {
     "name": "stderr",
     "output_type": "stream",
     "text": [
      "2022-06-26 20:33:40.635715: I tensorflow/core/platform/cpu_feature_guard.cc:151] This TensorFlow binary is optimized with oneAPI Deep Neural Network Library (oneDNN) to use the following CPU instructions in performance-critical operations:  AVX2 FMA\n",
      "To enable them in other operations, rebuild TensorFlow with the appropriate compiler flags.\n"
     ]
    },
    {
     "name": "stdout",
     "output_type": "stream",
     "text": [
      "26/26 [==============================] - 0s 909us/step - loss: 2.0948 - accuracy: 0.1719\n",
      "Epoch 2/200\n",
      "26/26 [==============================] - 0s 811us/step - loss: 1.9268 - accuracy: 0.2812\n",
      "Epoch 3/200\n",
      "26/26 [==============================] - 0s 712us/step - loss: 1.8165 - accuracy: 0.2656\n",
      "Epoch 4/200\n",
      "26/26 [==============================] - 0s 814us/step - loss: 1.7731 - accuracy: 0.3047\n",
      "Epoch 5/200\n",
      "26/26 [==============================] - 0s 706us/step - loss: 1.6634 - accuracy: 0.3828\n",
      "Epoch 6/200\n",
      "26/26 [==============================] - 0s 714us/step - loss: 1.6115 - accuracy: 0.4141\n",
      "Epoch 7/200\n",
      "26/26 [==============================] - 0s 890us/step - loss: 1.5160 - accuracy: 0.4375\n",
      "Epoch 8/200\n",
      "26/26 [==============================] - 0s 770us/step - loss: 1.3285 - accuracy: 0.6016\n",
      "Epoch 9/200\n",
      "26/26 [==============================] - 0s 731us/step - loss: 1.2799 - accuracy: 0.6094\n",
      "Epoch 10/200\n",
      "26/26 [==============================] - 0s 871us/step - loss: 1.2066 - accuracy: 0.5781\n",
      "Epoch 11/200\n",
      "26/26 [==============================] - 0s 946us/step - loss: 1.0974 - accuracy: 0.6172\n",
      "Epoch 12/200\n",
      "26/26 [==============================] - 0s 802us/step - loss: 0.9188 - accuracy: 0.7422\n",
      "Epoch 13/200\n",
      "26/26 [==============================] - 0s 962us/step - loss: 0.8521 - accuracy: 0.7500\n",
      "Epoch 14/200\n",
      "26/26 [==============================] - 0s 924us/step - loss: 0.7341 - accuracy: 0.7812\n",
      "Epoch 15/200\n",
      "26/26 [==============================] - 0s 853us/step - loss: 0.6607 - accuracy: 0.7891\n",
      "Epoch 16/200\n",
      "26/26 [==============================] - 0s 1ms/step - loss: 0.7812 - accuracy: 0.7188\n",
      "Epoch 17/200\n",
      "26/26 [==============================] - 0s 994us/step - loss: 0.6030 - accuracy: 0.8125\n",
      "Epoch 18/200\n",
      "26/26 [==============================] - 0s 970us/step - loss: 0.4695 - accuracy: 0.8672\n",
      "Epoch 19/200\n",
      "26/26 [==============================] - 0s 1ms/step - loss: 0.4655 - accuracy: 0.8594\n",
      "Epoch 20/200\n",
      "26/26 [==============================] - 0s 1ms/step - loss: 0.4401 - accuracy: 0.8672\n",
      "Epoch 21/200\n",
      "26/26 [==============================] - 0s 973us/step - loss: 0.3883 - accuracy: 0.8828\n",
      "Epoch 22/200\n",
      "26/26 [==============================] - 0s 931us/step - loss: 0.2605 - accuracy: 0.9375\n",
      "Epoch 23/200\n",
      "26/26 [==============================] - 0s 996us/step - loss: 0.3409 - accuracy: 0.8672\n",
      "Epoch 24/200\n",
      "26/26 [==============================] - 0s 940us/step - loss: 0.2599 - accuracy: 0.9219\n",
      "Epoch 25/200\n",
      "26/26 [==============================] - 0s 1000us/step - loss: 0.2860 - accuracy: 0.9141\n",
      "Epoch 26/200\n",
      "26/26 [==============================] - 0s 1ms/step - loss: 0.1754 - accuracy: 0.9531\n",
      "Epoch 27/200\n",
      "26/26 [==============================] - 0s 815us/step - loss: 0.1922 - accuracy: 0.9609\n",
      "Epoch 28/200\n",
      "26/26 [==============================] - 0s 817us/step - loss: 0.1961 - accuracy: 0.9531\n",
      "Epoch 29/200\n",
      "26/26 [==============================] - 0s 824us/step - loss: 0.1580 - accuracy: 0.9609\n",
      "Epoch 30/200\n",
      "26/26 [==============================] - 0s 789us/step - loss: 0.1930 - accuracy: 0.9453\n",
      "Epoch 31/200\n",
      "26/26 [==============================] - 0s 983us/step - loss: 0.1852 - accuracy: 0.9531\n",
      "Epoch 32/200\n",
      "26/26 [==============================] - 0s 2ms/step - loss: 0.1332 - accuracy: 0.9766\n",
      "Epoch 33/200\n",
      "26/26 [==============================] - 0s 1ms/step - loss: 0.1470 - accuracy: 0.9531\n",
      "Epoch 34/200\n",
      "26/26 [==============================] - 0s 966us/step - loss: 0.1011 - accuracy: 0.9688\n",
      "Epoch 35/200\n",
      "26/26 [==============================] - 0s 981us/step - loss: 0.1008 - accuracy: 0.9844\n",
      "Epoch 36/200\n",
      "26/26 [==============================] - 0s 1ms/step - loss: 0.0962 - accuracy: 0.9844\n",
      "Epoch 37/200\n",
      "26/26 [==============================] - 0s 957us/step - loss: 0.1257 - accuracy: 0.9609\n",
      "Epoch 38/200\n",
      "26/26 [==============================] - 0s 972us/step - loss: 0.0933 - accuracy: 0.9922\n",
      "Epoch 39/200\n",
      "26/26 [==============================] - 0s 994us/step - loss: 0.1378 - accuracy: 0.9609\n",
      "Epoch 40/200\n",
      "26/26 [==============================] - 0s 993us/step - loss: 0.1699 - accuracy: 0.9531\n",
      "Epoch 41/200\n",
      "26/26 [==============================] - 0s 961us/step - loss: 0.0763 - accuracy: 0.9922\n",
      "Epoch 42/200\n",
      "26/26 [==============================] - 0s 979us/step - loss: 0.1056 - accuracy: 0.9766\n",
      "Epoch 43/200\n",
      "26/26 [==============================] - 0s 956us/step - loss: 0.0736 - accuracy: 0.9766\n",
      "Epoch 44/200\n",
      "26/26 [==============================] - 0s 950us/step - loss: 0.0541 - accuracy: 0.9922\n",
      "Epoch 45/200\n",
      "26/26 [==============================] - 0s 963us/step - loss: 0.0523 - accuracy: 1.0000\n",
      "Epoch 46/200\n",
      "26/26 [==============================] - 0s 946us/step - loss: 0.0736 - accuracy: 0.9844\n",
      "Epoch 47/200\n",
      "26/26 [==============================] - 0s 955us/step - loss: 0.0820 - accuracy: 0.9844\n",
      "Epoch 48/200\n",
      "26/26 [==============================] - 0s 997us/step - loss: 0.0947 - accuracy: 0.9766\n",
      "Epoch 49/200\n",
      "26/26 [==============================] - 0s 980us/step - loss: 0.0528 - accuracy: 0.9766\n",
      "Epoch 50/200\n",
      "26/26 [==============================] - 0s 960us/step - loss: 0.0443 - accuracy: 1.0000\n",
      "Epoch 51/200\n",
      "26/26 [==============================] - 0s 997us/step - loss: 0.0735 - accuracy: 0.9844\n",
      "Epoch 52/200\n",
      "26/26 [==============================] - 0s 989us/step - loss: 0.0486 - accuracy: 1.0000\n",
      "Epoch 53/200\n",
      "26/26 [==============================] - 0s 920us/step - loss: 0.0636 - accuracy: 0.9844\n",
      "Epoch 54/200\n",
      "26/26 [==============================] - 0s 738us/step - loss: 0.1018 - accuracy: 0.9609\n",
      "Epoch 55/200\n",
      "26/26 [==============================] - 0s 716us/step - loss: 0.1018 - accuracy: 0.9688\n",
      "Epoch 56/200\n",
      "26/26 [==============================] - 0s 730us/step - loss: 0.0666 - accuracy: 0.9844\n",
      "Epoch 57/200\n",
      "26/26 [==============================] - 0s 715us/step - loss: 0.0657 - accuracy: 0.9922\n",
      "Epoch 58/200\n",
      "26/26 [==============================] - 0s 753us/step - loss: 0.0592 - accuracy: 0.9844\n",
      "Epoch 59/200\n",
      "26/26 [==============================] - 0s 731us/step - loss: 0.0603 - accuracy: 0.9922\n",
      "Epoch 60/200\n",
      "26/26 [==============================] - 0s 731us/step - loss: 0.0399 - accuracy: 0.9922\n",
      "Epoch 61/200\n",
      "26/26 [==============================] - 0s 709us/step - loss: 0.0407 - accuracy: 1.0000\n",
      "Epoch 62/200\n",
      "26/26 [==============================] - 0s 719us/step - loss: 0.0288 - accuracy: 1.0000\n",
      "Epoch 63/200\n",
      "26/26 [==============================] - 0s 730us/step - loss: 0.0559 - accuracy: 0.9844\n",
      "Epoch 64/200\n",
      "26/26 [==============================] - 0s 724us/step - loss: 0.0577 - accuracy: 0.9766\n",
      "Epoch 65/200\n",
      "26/26 [==============================] - 0s 743us/step - loss: 0.0252 - accuracy: 0.9922\n",
      "Epoch 66/200\n",
      "26/26 [==============================] - 0s 725us/step - loss: 0.0522 - accuracy: 0.9766\n",
      "Epoch 67/200\n",
      "26/26 [==============================] - 0s 744us/step - loss: 0.0395 - accuracy: 1.0000\n",
      "Epoch 68/200\n",
      "26/26 [==============================] - 0s 747us/step - loss: 0.0363 - accuracy: 0.9922\n",
      "Epoch 69/200\n",
      "26/26 [==============================] - 0s 725us/step - loss: 0.0729 - accuracy: 0.9766\n",
      "Epoch 70/200\n",
      "26/26 [==============================] - 0s 740us/step - loss: 0.0345 - accuracy: 0.9922\n",
      "Epoch 71/200\n",
      "26/26 [==============================] - 0s 735us/step - loss: 0.0471 - accuracy: 0.9922\n",
      "Epoch 72/200\n",
      "26/26 [==============================] - 0s 733us/step - loss: 0.0444 - accuracy: 0.9922\n",
      "Epoch 73/200\n",
      "26/26 [==============================] - 0s 740us/step - loss: 0.0405 - accuracy: 1.0000\n",
      "Epoch 74/200\n",
      "26/26 [==============================] - 0s 767us/step - loss: 0.0604 - accuracy: 0.9766\n",
      "Epoch 75/200\n",
      "26/26 [==============================] - 0s 856us/step - loss: 0.0361 - accuracy: 0.9844\n",
      "Epoch 76/200\n",
      "26/26 [==============================] - 0s 784us/step - loss: 0.0514 - accuracy: 0.9844\n",
      "Epoch 77/200\n",
      "26/26 [==============================] - 0s 802us/step - loss: 0.0242 - accuracy: 1.0000\n",
      "Epoch 78/200\n",
      "26/26 [==============================] - 0s 731us/step - loss: 0.0372 - accuracy: 0.9922\n",
      "Epoch 79/200\n",
      "26/26 [==============================] - 0s 744us/step - loss: 0.0687 - accuracy: 0.9844\n",
      "Epoch 80/200\n",
      "26/26 [==============================] - 0s 717us/step - loss: 0.0652 - accuracy: 0.9844\n",
      "Epoch 81/200\n"
     ]
    },
    {
     "name": "stdout",
     "output_type": "stream",
     "text": [
      "26/26 [==============================] - 0s 720us/step - loss: 0.0285 - accuracy: 1.0000\n",
      "Epoch 82/200\n",
      "26/26 [==============================] - 0s 726us/step - loss: 0.0366 - accuracy: 0.9922\n",
      "Epoch 83/200\n",
      "26/26 [==============================] - 0s 736us/step - loss: 0.0455 - accuracy: 0.9922\n",
      "Epoch 84/200\n",
      "26/26 [==============================] - 0s 730us/step - loss: 0.0451 - accuracy: 0.9766\n",
      "Epoch 85/200\n",
      "26/26 [==============================] - 0s 707us/step - loss: 0.0240 - accuracy: 1.0000\n",
      "Epoch 86/200\n",
      "26/26 [==============================] - 0s 693us/step - loss: 0.1096 - accuracy: 0.9688\n",
      "Epoch 87/200\n",
      "26/26 [==============================] - 0s 710us/step - loss: 0.0410 - accuracy: 0.9922\n",
      "Epoch 88/200\n",
      "26/26 [==============================] - 0s 721us/step - loss: 0.0362 - accuracy: 0.9922\n",
      "Epoch 89/200\n",
      "26/26 [==============================] - 0s 705us/step - loss: 0.0423 - accuracy: 0.9922\n",
      "Epoch 90/200\n",
      "26/26 [==============================] - 0s 711us/step - loss: 0.0248 - accuracy: 1.0000\n",
      "Epoch 91/200\n",
      "26/26 [==============================] - 0s 705us/step - loss: 0.0279 - accuracy: 1.0000\n",
      "Epoch 92/200\n",
      "26/26 [==============================] - 0s 688us/step - loss: 0.0909 - accuracy: 0.9766\n",
      "Epoch 93/200\n",
      "26/26 [==============================] - 0s 703us/step - loss: 0.0340 - accuracy: 0.9922\n",
      "Epoch 94/200\n",
      "26/26 [==============================] - 0s 704us/step - loss: 0.0335 - accuracy: 0.9922\n",
      "Epoch 95/200\n",
      "26/26 [==============================] - 0s 702us/step - loss: 0.0337 - accuracy: 0.9922\n",
      "Epoch 96/200\n",
      "26/26 [==============================] - 0s 687us/step - loss: 0.0259 - accuracy: 0.9922\n",
      "Epoch 97/200\n",
      "26/26 [==============================] - 0s 714us/step - loss: 0.0322 - accuracy: 1.0000\n",
      "Epoch 98/200\n",
      "26/26 [==============================] - 0s 703us/step - loss: 0.0183 - accuracy: 1.0000\n",
      "Epoch 99/200\n",
      "26/26 [==============================] - 0s 715us/step - loss: 0.0422 - accuracy: 0.9922\n",
      "Epoch 100/200\n",
      "26/26 [==============================] - 0s 707us/step - loss: 0.0344 - accuracy: 0.9922\n",
      "Epoch 101/200\n",
      "26/26 [==============================] - 0s 703us/step - loss: 0.0241 - accuracy: 0.9922\n",
      "Epoch 102/200\n",
      "26/26 [==============================] - 0s 739us/step - loss: 0.0214 - accuracy: 1.0000\n",
      "Epoch 103/200\n",
      "26/26 [==============================] - 0s 721us/step - loss: 0.0346 - accuracy: 0.9844\n",
      "Epoch 104/200\n",
      "26/26 [==============================] - 0s 704us/step - loss: 0.0311 - accuracy: 0.9844\n",
      "Epoch 105/200\n",
      "26/26 [==============================] - 0s 700us/step - loss: 0.0240 - accuracy: 0.9922\n",
      "Epoch 106/200\n",
      "26/26 [==============================] - 0s 709us/step - loss: 0.0181 - accuracy: 1.0000\n",
      "Epoch 107/200\n",
      "26/26 [==============================] - 0s 703us/step - loss: 0.0519 - accuracy: 0.9922\n",
      "Epoch 108/200\n",
      "26/26 [==============================] - 0s 709us/step - loss: 0.0356 - accuracy: 0.9922\n",
      "Epoch 109/200\n",
      "26/26 [==============================] - 0s 715us/step - loss: 0.0756 - accuracy: 0.9844\n",
      "Epoch 110/200\n",
      "26/26 [==============================] - 0s 1ms/step - loss: 0.0524 - accuracy: 0.9922\n",
      "Epoch 111/200\n",
      "26/26 [==============================] - 0s 717us/step - loss: 0.0193 - accuracy: 0.9922\n",
      "Epoch 112/200\n",
      "26/26 [==============================] - 0s 709us/step - loss: 0.0226 - accuracy: 1.0000\n",
      "Epoch 113/200\n",
      "26/26 [==============================] - 0s 701us/step - loss: 0.0352 - accuracy: 0.9844\n",
      "Epoch 114/200\n",
      "26/26 [==============================] - 0s 697us/step - loss: 0.0087 - accuracy: 1.0000\n",
      "Epoch 115/200\n",
      "26/26 [==============================] - 0s 708us/step - loss: 0.0681 - accuracy: 0.9844\n",
      "Epoch 116/200\n",
      "26/26 [==============================] - 0s 708us/step - loss: 0.0312 - accuracy: 0.9922\n",
      "Epoch 117/200\n",
      "26/26 [==============================] - 0s 704us/step - loss: 0.0268 - accuracy: 0.9922\n",
      "Epoch 118/200\n",
      "26/26 [==============================] - 0s 686us/step - loss: 0.0269 - accuracy: 0.9922\n",
      "Epoch 119/200\n",
      "26/26 [==============================] - 0s 697us/step - loss: 0.0198 - accuracy: 1.0000\n",
      "Epoch 120/200\n",
      "26/26 [==============================] - 0s 705us/step - loss: 0.0211 - accuracy: 0.9922\n",
      "Epoch 121/200\n",
      "26/26 [==============================] - 0s 709us/step - loss: 0.0461 - accuracy: 0.9766\n",
      "Epoch 122/200\n",
      "26/26 [==============================] - 0s 708us/step - loss: 0.0184 - accuracy: 0.9922\n",
      "Epoch 123/200\n",
      "26/26 [==============================] - 0s 710us/step - loss: 0.0234 - accuracy: 1.0000\n",
      "Epoch 124/200\n",
      "26/26 [==============================] - 0s 697us/step - loss: 0.0212 - accuracy: 1.0000\n",
      "Epoch 125/200\n",
      "26/26 [==============================] - 0s 710us/step - loss: 0.0248 - accuracy: 0.9922\n",
      "Epoch 126/200\n",
      "26/26 [==============================] - 0s 710us/step - loss: 0.0140 - accuracy: 1.0000\n",
      "Epoch 127/200\n",
      "26/26 [==============================] - 0s 764us/step - loss: 0.0142 - accuracy: 1.0000\n",
      "Epoch 128/200\n",
      "26/26 [==============================] - 0s 718us/step - loss: 0.0186 - accuracy: 1.0000\n",
      "Epoch 129/200\n",
      "26/26 [==============================] - 0s 713us/step - loss: 0.0354 - accuracy: 0.9844\n",
      "Epoch 130/200\n",
      "26/26 [==============================] - 0s 738us/step - loss: 0.0124 - accuracy: 1.0000\n",
      "Epoch 131/200\n",
      "26/26 [==============================] - 0s 818us/step - loss: 0.0585 - accuracy: 0.9609\n",
      "Epoch 132/200\n",
      "26/26 [==============================] - 0s 732us/step - loss: 0.0145 - accuracy: 1.0000\n",
      "Epoch 133/200\n",
      "26/26 [==============================] - 0s 729us/step - loss: 0.0174 - accuracy: 1.0000\n",
      "Epoch 134/200\n",
      "26/26 [==============================] - 0s 749us/step - loss: 0.0113 - accuracy: 1.0000\n",
      "Epoch 135/200\n",
      "26/26 [==============================] - 0s 714us/step - loss: 0.0275 - accuracy: 0.9922\n",
      "Epoch 136/200\n",
      "26/26 [==============================] - 0s 689us/step - loss: 0.0371 - accuracy: 0.9844\n",
      "Epoch 137/200\n",
      "26/26 [==============================] - 0s 695us/step - loss: 0.0096 - accuracy: 1.0000\n",
      "Epoch 138/200\n",
      "26/26 [==============================] - 0s 694us/step - loss: 0.0256 - accuracy: 1.0000\n",
      "Epoch 139/200\n",
      "26/26 [==============================] - 0s 696us/step - loss: 0.0117 - accuracy: 1.0000\n",
      "Epoch 140/200\n",
      "26/26 [==============================] - 0s 710us/step - loss: 0.0254 - accuracy: 0.9922\n",
      "Epoch 141/200\n",
      "26/26 [==============================] - 0s 693us/step - loss: 0.0263 - accuracy: 0.9922\n",
      "Epoch 142/200\n",
      "26/26 [==============================] - 0s 710us/step - loss: 0.0243 - accuracy: 0.9922\n",
      "Epoch 143/200\n",
      "26/26 [==============================] - 0s 703us/step - loss: 0.0088 - accuracy: 1.0000\n",
      "Epoch 144/200\n",
      "26/26 [==============================] - 0s 694us/step - loss: 0.0373 - accuracy: 0.9844\n",
      "Epoch 145/200\n",
      "26/26 [==============================] - 0s 696us/step - loss: 0.0111 - accuracy: 1.0000\n",
      "Epoch 146/200\n",
      "26/26 [==============================] - 0s 706us/step - loss: 0.0185 - accuracy: 1.0000\n",
      "Epoch 147/200\n",
      "26/26 [==============================] - 0s 709us/step - loss: 0.0153 - accuracy: 1.0000\n",
      "Epoch 148/200\n",
      "26/26 [==============================] - 0s 702us/step - loss: 0.0209 - accuracy: 0.9922\n",
      "Epoch 149/200\n",
      "26/26 [==============================] - 0s 701us/step - loss: 0.0425 - accuracy: 0.9844\n",
      "Epoch 150/200\n",
      "26/26 [==============================] - 0s 703us/step - loss: 0.0396 - accuracy: 0.9844\n",
      "Epoch 151/200\n",
      "26/26 [==============================] - 0s 712us/step - loss: 0.0294 - accuracy: 0.9922\n",
      "Epoch 152/200\n",
      "26/26 [==============================] - 0s 704us/step - loss: 0.0101 - accuracy: 1.0000\n",
      "Epoch 153/200\n",
      "26/26 [==============================] - 0s 696us/step - loss: 0.0609 - accuracy: 0.9922\n",
      "Epoch 154/200\n",
      "26/26 [==============================] - 0s 695us/step - loss: 0.0547 - accuracy: 0.9766\n",
      "Epoch 155/200\n",
      "26/26 [==============================] - 0s 693us/step - loss: 0.0141 - accuracy: 0.9922\n",
      "Epoch 156/200\n",
      "26/26 [==============================] - 0s 703us/step - loss: 0.0325 - accuracy: 0.9844\n",
      "Epoch 157/200\n",
      "26/26 [==============================] - 0s 686us/step - loss: 0.0309 - accuracy: 0.9922\n",
      "Epoch 158/200\n",
      "26/26 [==============================] - 0s 694us/step - loss: 0.0194 - accuracy: 1.0000\n",
      "Epoch 159/200\n",
      "26/26 [==============================] - 0s 689us/step - loss: 0.0118 - accuracy: 1.0000\n",
      "Epoch 160/200\n"
     ]
    },
    {
     "name": "stdout",
     "output_type": "stream",
     "text": [
      "26/26 [==============================] - 0s 689us/step - loss: 0.0189 - accuracy: 1.0000\n",
      "Epoch 161/200\n",
      "26/26 [==============================] - 0s 699us/step - loss: 0.0078 - accuracy: 1.0000\n",
      "Epoch 162/200\n",
      "26/26 [==============================] - 0s 693us/step - loss: 0.0148 - accuracy: 0.9922\n",
      "Epoch 163/200\n",
      "26/26 [==============================] - 0s 689us/step - loss: 0.0145 - accuracy: 1.0000\n",
      "Epoch 164/200\n",
      "26/26 [==============================] - 0s 709us/step - loss: 0.0103 - accuracy: 1.0000\n",
      "Epoch 165/200\n",
      "26/26 [==============================] - 0s 720us/step - loss: 0.0136 - accuracy: 1.0000\n",
      "Epoch 166/200\n",
      "26/26 [==============================] - 0s 695us/step - loss: 0.0066 - accuracy: 1.0000\n",
      "Epoch 167/200\n",
      "26/26 [==============================] - 0s 709us/step - loss: 0.0075 - accuracy: 1.0000\n",
      "Epoch 168/200\n",
      "26/26 [==============================] - 0s 707us/step - loss: 0.0165 - accuracy: 1.0000\n",
      "Epoch 169/200\n",
      "26/26 [==============================] - 0s 696us/step - loss: 0.0148 - accuracy: 0.9922\n",
      "Epoch 170/200\n",
      "26/26 [==============================] - 0s 706us/step - loss: 0.0177 - accuracy: 1.0000\n",
      "Epoch 171/200\n",
      "26/26 [==============================] - 0s 688us/step - loss: 0.0143 - accuracy: 1.0000\n",
      "Epoch 172/200\n",
      "26/26 [==============================] - 0s 691us/step - loss: 0.0036 - accuracy: 1.0000\n",
      "Epoch 173/200\n",
      "26/26 [==============================] - 0s 691us/step - loss: 0.0111 - accuracy: 1.0000\n",
      "Epoch 174/200\n",
      "26/26 [==============================] - 0s 718us/step - loss: 0.0092 - accuracy: 1.0000\n",
      "Epoch 175/200\n",
      "26/26 [==============================] - 0s 734us/step - loss: 0.0095 - accuracy: 1.0000\n",
      "Epoch 176/200\n",
      "26/26 [==============================] - 0s 729us/step - loss: 0.0067 - accuracy: 1.0000\n",
      "Epoch 177/200\n",
      "26/26 [==============================] - 0s 701us/step - loss: 0.0104 - accuracy: 1.0000\n",
      "Epoch 178/200\n",
      "26/26 [==============================] - 0s 686us/step - loss: 0.0247 - accuracy: 0.9922\n",
      "Epoch 179/200\n",
      "26/26 [==============================] - 0s 700us/step - loss: 0.0036 - accuracy: 1.0000\n",
      "Epoch 180/200\n",
      "26/26 [==============================] - 0s 698us/step - loss: 0.0073 - accuracy: 1.0000\n",
      "Epoch 181/200\n",
      "26/26 [==============================] - 0s 699us/step - loss: 0.0086 - accuracy: 1.0000\n",
      "Epoch 182/200\n",
      "26/26 [==============================] - 0s 691us/step - loss: 0.0095 - accuracy: 1.0000\n",
      "Epoch 183/200\n",
      "26/26 [==============================] - 0s 702us/step - loss: 0.0111 - accuracy: 0.9922\n",
      "Epoch 184/200\n",
      "26/26 [==============================] - 0s 698us/step - loss: 0.0161 - accuracy: 0.9922\n",
      "Epoch 185/200\n",
      "26/26 [==============================] - 0s 716us/step - loss: 0.0038 - accuracy: 1.0000\n",
      "Epoch 186/200\n",
      "26/26 [==============================] - 0s 704us/step - loss: 0.0112 - accuracy: 0.9922\n",
      "Epoch 187/200\n",
      "26/26 [==============================] - 0s 698us/step - loss: 0.0207 - accuracy: 0.9922\n",
      "Epoch 188/200\n",
      "26/26 [==============================] - 0s 712us/step - loss: 0.0102 - accuracy: 1.0000\n",
      "Epoch 189/200\n",
      "26/26 [==============================] - 0s 703us/step - loss: 0.0099 - accuracy: 1.0000\n",
      "Epoch 190/200\n",
      "26/26 [==============================] - 0s 695us/step - loss: 0.0067 - accuracy: 1.0000\n",
      "Epoch 191/200\n",
      "26/26 [==============================] - 0s 710us/step - loss: 0.0159 - accuracy: 0.9922\n",
      "Epoch 192/200\n",
      "26/26 [==============================] - 0s 701us/step - loss: 0.0237 - accuracy: 1.0000\n",
      "Epoch 193/200\n",
      "26/26 [==============================] - 0s 705us/step - loss: 0.0065 - accuracy: 1.0000\n",
      "Epoch 194/200\n",
      "26/26 [==============================] - 0s 706us/step - loss: 0.0156 - accuracy: 0.9922\n",
      "Epoch 195/200\n",
      "26/26 [==============================] - 0s 706us/step - loss: 0.0180 - accuracy: 1.0000\n",
      "Epoch 196/200\n",
      "26/26 [==============================] - 0s 711us/step - loss: 0.0122 - accuracy: 1.0000\n",
      "Epoch 197/200\n",
      "26/26 [==============================] - 0s 710us/step - loss: 0.0075 - accuracy: 1.0000\n",
      "Epoch 198/200\n",
      "26/26 [==============================] - 0s 731us/step - loss: 0.0169 - accuracy: 0.9922\n",
      "Epoch 199/200\n",
      "26/26 [==============================] - 0s 709us/step - loss: 0.0267 - accuracy: 0.9922\n",
      "Epoch 200/200\n",
      "26/26 [==============================] - 0s 689us/step - loss: 0.0893 - accuracy: 0.9844\n",
      "\n",
      "\n",
      "**************************************************\n",
      "\n",
      "Model Created Successfully!\n"
     ]
    }
   ],
   "source": [
    "# Create NN model to predict the responses\n",
    "model = Sequential()\n",
    "model.add(Dense(128, input_shape=(len(train_x[0]),), activation='relu'))\n",
    "model.add(Dropout(0.5))\n",
    "model.add(Dense(64, activation='relu'))\n",
    "model.add(Dropout(0.5))\n",
    "model.add(Dense(len(train_y[0]), activation='softmax'))\n",
    "\n",
    "# Compile model. \n",
    "sgd = SGD(learning_rate=0.01, decay=1e-6, momentum=0.9, nesterov=True)\n",
    "model.compile(loss='categorical_crossentropy', optimizer=sgd, metrics=['accuracy'])\n",
    "\n",
    "#fitting and saving the model \n",
    "hist = model.fit(np.array(train_x), np.array(train_y), epochs=200, batch_size=5, verbose=1)\n",
    "model.save('chatbot.h5', hist) # we will pickle this model to use in the future\n",
    "print(\"\\n\")\n",
    "print(\"*\"*50)\n",
    "print(\"\\nModel Created Successfully!\")"
   ]
  },
  {
   "cell_type": "raw",
   "metadata": {
    "id": "JZx_lgMjshlC"
   },
   "source": [
    "The accuracy of the model is 99.22 % which is quite impressive.\n",
    "\n",
    "In the further steps, we will import all the libraries and Train_Bot json data and use the pickled model for the prediction of responses."
   ]
  },
  {
   "cell_type": "markdown",
   "metadata": {
    "id": "SQdaRQkWshlC"
   },
   "source": [
    "### Repeating all the above steps and using the pickled model for the prediction of responses"
   ]
  },
  {
   "cell_type": "code",
   "execution_count": 44,
   "metadata": {
    "id": "xZMwR2FUshlC"
   },
   "outputs": [],
   "source": [
    "# load the saved model file\n",
    "model = load_model('chatbot.h5')\n",
    "intents = json.loads(open(\"GL+Bot.json\").read())\n",
    "words = pickle.load(open('words.pkl','rb'))\n",
    "classes = pickle.load(open('classes.pkl','rb'))"
   ]
  },
  {
   "cell_type": "code",
   "execution_count": 45,
   "metadata": {
    "id": "C8ctzYIUshlC"
   },
   "outputs": [],
   "source": [
    "def clean_up_sentence(sentence):\n",
    "\n",
    "    # tokenize the pattern - split words into array\n",
    "    sentence_words = nltk.word_tokenize(sentence)\n",
    "    \n",
    "    # stem each word - create short form for word\n",
    "    sentence_words = [lemmatizer.lemmatize(word.lower()) for word in sentence_words]\n",
    "    return sentence_words\n",
    "\n",
    "\n",
    "# return bag of words array: 0 or 1 for each word in the bag that exists in the sentence\n",
    "\n",
    "def bow(sentence, words, show_details=True):\n",
    "\n",
    "    # tokenize the pattern\n",
    "    sentence_words = clean_up_sentence(sentence)\n",
    "\n",
    "    # bag of words - matrix of N words, vocabulary matrix\n",
    "    bag = [0]*len(words) \n",
    "    for s in sentence_words:\n",
    "        for i,w in enumerate(words):\n",
    "            if w == s: \n",
    "               \n",
    "                # assign 1 if current word is in the vocabulary position\n",
    "                bag[i] = 1\n",
    "                if show_details:\n",
    "                    print (\"found in bag: %s\" % w)\n",
    "    return(np.array(bag))\n",
    "\n",
    "def predict_class(sentence, model):\n",
    "   \n",
    "    # filter out predictions below a threshold\n",
    "    p = bow(sentence, words,show_details=False)\n",
    "    res = model.predict(np.array([p]))[0]\n",
    "    error = 0.25\n",
    "    results = [[i,r] for i,r in enumerate(res) if r>error]\n",
    "    \n",
    "    # sort by strength of probability\n",
    "    results.sort(key=lambda x: x[1], reverse=True)\n",
    "    return_list = []\n",
    "    \n",
    "    for r in results:\n",
    "        return_list.append({\"intent\": classes[r[0]], \"probability\": str(r[1])})\n",
    "    return return_list"
   ]
  },
  {
   "cell_type": "code",
   "execution_count": 46,
   "metadata": {
    "id": "Euh-vcN1shlD"
   },
   "outputs": [],
   "source": [
    "# function to get the response from the model\n",
    "\n",
    "def getResponse(ints, intents_json):\n",
    "    tag = ints[0]['intent']\n",
    "    list_of_intents = intents_json['intents']\n",
    "    for i in list_of_intents:\n",
    "        if(i['tag']== tag):\n",
    "            result = random.choice(i['responses'])\n",
    "            break\n",
    "    return result\n",
    "\n",
    "# function to predict the class and get the response\n",
    "\n",
    "def chatbot_response(text):\n",
    "    ints = predict_class(text, model)\n",
    "    res = getResponse(ints, intents)\n",
    "    return res"
   ]
  },
  {
   "cell_type": "code",
   "execution_count": 47,
   "metadata": {
    "id": "0L7Xq1Z4shlD"
   },
   "outputs": [],
   "source": [
    "# function to start the chat bot which will continue till the user type 'end'\n",
    "\n",
    "def start_chat():\n",
    "    print(\"Bot: This is Harman! Your Personal Assistant.\\n\\n\")\n",
    "    while True:\n",
    "        inp = str(input()).lower()\n",
    "        if inp.lower()==\"end\":\n",
    "            break\n",
    "        if inp.lower()== '' or inp.lower()== '*':\n",
    "            print('Please re-phrase your query!')\n",
    "            print(\"-\"*50)\n",
    "        else:\n",
    "            print(f\"Bot: {chatbot_response(inp)}\"+'\\n')\n",
    "            print(\"-\"*50)"
   ]
  },
  {
   "cell_type": "markdown",
   "metadata": {
    "id": "obm5NUt9shlD"
   },
   "source": [
    "## Chatting with BOT using the Command Line Option"
   ]
  },
  {
   "cell_type": "code",
   "execution_count": 48,
   "metadata": {},
   "outputs": [
    {
     "name": "stdout",
     "output_type": "stream",
     "text": [
      "Bot: This is Harman! Your Personal Assistant.\n",
      "\n",
      "\n",
      "Hi, I have a question\n",
      "Bot: Hello! how can i help you ?\n",
      "\n",
      "--------------------------------------------------\n",
      "not able to understand neural nets\n",
      "Bot: Link: Neural Nets wiki\n",
      "\n",
      "--------------------------------------------------\n",
      "when are your hours of opertions\n",
      "Bot: I am your virtual learning assistant\n",
      "\n",
      "--------------------------------------------------\n",
      "you did not help me\n",
      "Bot: Tarnsferring the request to your PM\n",
      "\n",
      "--------------------------------------------------\n",
      "Thanks\n",
      "Bot: I hope I was able to assist you, Good Bye\n",
      "\n",
      "--------------------------------------------------\n",
      "end\n"
     ]
    }
   ],
   "source": [
    "# Starting the chat\n",
    "start_chat()"
   ]
  },
  {
   "cell_type": "code",
   "execution_count": null,
   "metadata": {},
   "outputs": [],
   "source": []
  }
 ],
 "metadata": {
  "accelerator": "GPU",
  "colab": {
   "name": "StatisticalNLP.ipynb",
   "provenance": [],
   "toc_visible": true
  },
  "kernelspec": {
   "display_name": "Python 3 (ipykernel)",
   "language": "python",
   "name": "python3"
  },
  "language_info": {
   "codemirror_mode": {
    "name": "ipython",
    "version": 3
   },
   "file_extension": ".py",
   "mimetype": "text/x-python",
   "name": "python",
   "nbconvert_exporter": "python",
   "pygments_lexer": "ipython3",
   "version": "3.8.10"
  }
 },
 "nbformat": 4,
 "nbformat_minor": 1
}
