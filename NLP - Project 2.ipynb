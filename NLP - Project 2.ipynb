{
 "cells": [
  {
   "cell_type": "markdown",
   "id": "26a40467",
   "metadata": {},
   "source": [
    "## NLP Project 2 - PART A\n",
    "- DOMAIN: Digital content and entertainment industry\n",
    "- CONTEXT: The objective of this project is to build a text classification model that analyses the customer's\n",
    "sentiments based on their reviews in the IMDB database. The model uses a complex deep learning model to build\n",
    "an embedding layer followed by a classification algorithm to analyse the sentiment of the customers.\n",
    "- DATA DESCRIPTION: The Dataset of 50,000 movie reviews from IMDB, labelled by sentiment (positive/negative).\n",
    "Reviews have been preprocessed, and each review is encoded as a sequence of word indexes (integers). For\n",
    "convenience, the words are indexed by their frequency in the dataset, meaning the for that has index 1 is the most\n",
    "frequent word. Use the first 20 words from each review to speed up training, using a max vocabulary size of\n",
    "10,000. As a convention, \"0\" does not stand for a specific word, but instead is used to encode any unknown word."
   ]
  },
  {
   "cell_type": "code",
   "execution_count": 1,
   "id": "fc2631b5",
   "metadata": {},
   "outputs": [],
   "source": [
    "# Importing libraries\n",
    "import numpy as np\n",
    "import pandas as pd"
   ]
  },
  {
   "cell_type": "code",
   "execution_count": 3,
   "id": "479ce556",
   "metadata": {},
   "outputs": [],
   "source": [
    "# Importing the imdb datasets with vocab size of 10000 and number of words as 20 from each review.\n",
    "from keras.datasets import imdb\n",
    "from keras.preprocessing.sequence import pad_sequences\n",
    "vocab_size = 10000 #vocab size\n",
    "maxlen = 20  #number of word used from each review"
   ]
  },
  {
   "cell_type": "code",
   "execution_count": 4,
   "id": "6acc0082",
   "metadata": {},
   "outputs": [],
   "source": [
    "# Load dataset as a list of ints\n",
    "(X_train, y_train), (X_test, y_test) = imdb.load_data(num_words=vocab_size)\n",
    "#make all sequences of the same length\n",
    "X_train = pad_sequences(X_train, maxlen=maxlen)\n",
    "X_test =  pad_sequences(X_test, maxlen=maxlen)"
   ]
  },
  {
   "cell_type": "code",
   "execution_count": 5,
   "id": "dd689d78",
   "metadata": {},
   "outputs": [
    {
     "data": {
      "text/plain": [
       "(25000, 20)"
      ]
     },
     "execution_count": 5,
     "metadata": {},
     "output_type": "execute_result"
    }
   ],
   "source": [
    "X_train.shape"
   ]
  },
  {
   "cell_type": "code",
   "execution_count": 6,
   "id": "a1197757",
   "metadata": {},
   "outputs": [
    {
     "data": {
      "text/plain": [
       "(25000, 20)"
      ]
     },
     "execution_count": 6,
     "metadata": {},
     "output_type": "execute_result"
    }
   ],
   "source": [
    "X_test.shape"
   ]
  },
  {
   "cell_type": "markdown",
   "id": "b875e9f2",
   "metadata": {},
   "source": [
    "#### Function to perform relevant sequence adding on the data"
   ]
  },
  {
   "cell_type": "code",
   "execution_count": 7,
   "id": "213d137c",
   "metadata": {},
   "outputs": [],
   "source": [
    "def vectorize(sequences, dimension = 10000):\n",
    "    results = np.zeros((len(sequences), dimension))\n",
    "    for i, sequence in enumerate(sequences):\n",
    "        results[i, sequence] = 1\n",
    "    return results\n",
    " "
   ]
  },
  {
   "cell_type": "code",
   "execution_count": 8,
   "id": "6d2d59ba",
   "metadata": {},
   "outputs": [],
   "source": [
    "#consolidating data for EDA\n",
    "data = np.concatenate((X_train, X_test), axis=0)\n",
    "label = np.concatenate((y_train, y_test), axis=0)"
   ]
  },
  {
   "cell_type": "code",
   "execution_count": 9,
   "id": "536def51",
   "metadata": {},
   "outputs": [
    {
     "name": "stdout",
     "output_type": "stream",
     "text": [
      "Categories: [0 1]\n",
      "Number of unique words: 9858\n"
     ]
    }
   ],
   "source": [
    "print(\"Categories:\", np.unique(label))\n",
    "print(\"Number of unique words:\", len(np.unique(np.hstack(data))))"
   ]
  },
  {
   "cell_type": "code",
   "execution_count": 10,
   "id": "18d6eee0",
   "metadata": {},
   "outputs": [
    {
     "name": "stdout",
     "output_type": "stream",
     "text": [
      "Average Review length: 20.0\n",
      "Standard Deviation: 0\n"
     ]
    }
   ],
   "source": [
    "length = [len(i) for i in data]\n",
    "print(\"Average Review length:\", np.mean(length))\n",
    "print(\"Standard Deviation:\", round(np.std(length)))"
   ]
  },
  {
   "cell_type": "markdown",
   "id": "a9bf8877",
   "metadata": {},
   "source": [
    "#### Let's look at a single training example:"
   ]
  },
  {
   "cell_type": "code",
   "execution_count": 11,
   "id": "c48190d6",
   "metadata": {},
   "outputs": [
    {
     "name": "stdout",
     "output_type": "stream",
     "text": [
      "Label: 1\n"
     ]
    }
   ],
   "source": [
    "print(\"Label:\", label[0])"
   ]
  },
  {
   "cell_type": "code",
   "execution_count": 12,
   "id": "b23af49c",
   "metadata": {},
   "outputs": [
    {
     "name": "stdout",
     "output_type": "stream",
     "text": [
      "[  65   16   38 1334   88   12   16  283    5   16 4472  113  103   32\n",
      "   15   16 5345   19  178   32]\n"
     ]
    }
   ],
   "source": [
    "print(data[0])"
   ]
  },
  {
   "cell_type": "markdown",
   "id": "6a7ca9f3",
   "metadata": {},
   "source": [
    "#### Let's decode the first review"
   ]
  },
  {
   "cell_type": "code",
   "execution_count": 13,
   "id": "3641bc19",
   "metadata": {},
   "outputs": [
    {
     "name": "stdout",
     "output_type": "stream",
     "text": [
      "Downloading data from https://storage.googleapis.com/tensorflow/tf-keras-datasets/imdb_word_index.json\n",
      "1646592/1641221 [==============================] - 0s 0us/step\n",
      "1654784/1641221 [==============================] - 0s 0us/step\n",
      "story was so lovely because it was true and was someone's life after all that was shared with us all\n"
     ]
    }
   ],
   "source": [
    "# Decoding the first review from the loaded datasets\n",
    "index = imdb.get_word_index()\n",
    "reverse_index = dict([(value, key) for (key, value) in index.items()]) \n",
    "decoded = \" \".join( [reverse_index.get(i - 3, \"#\") for i in data[0]] )\n",
    "print(decoded) "
   ]
  },
  {
   "cell_type": "code",
   "execution_count": 14,
   "id": "995fc69f",
   "metadata": {},
   "outputs": [],
   "source": [
    "#Adding sequence to data\n",
    "data = vectorize(data)\n",
    "label = np.array(label).astype(\"float32\")"
   ]
  },
  {
   "cell_type": "code",
   "execution_count": 15,
   "id": "b4cda6be",
   "metadata": {},
   "outputs": [
    {
     "data": {
      "text/plain": [
       "array([1., 0., 0., ..., 0., 0., 0.], dtype=float32)"
      ]
     },
     "execution_count": 15,
     "metadata": {},
     "output_type": "execute_result"
    }
   ],
   "source": [
    "label"
   ]
  },
  {
   "cell_type": "markdown",
   "id": "4d591063",
   "metadata": {},
   "source": [
    "#### Let's check distribution of data"
   ]
  },
  {
   "cell_type": "code",
   "execution_count": 16,
   "id": "1600ccbb",
   "metadata": {},
   "outputs": [],
   "source": [
    "#To plot for EDA\n",
    "import seaborn as sns\n",
    "sns.set(color_codes=True)\n",
    "import matplotlib.pyplot as plt\n",
    "%matplotlib inline"
   ]
  },
  {
   "cell_type": "code",
   "execution_count": 17,
   "id": "42f639aa",
   "metadata": {},
   "outputs": [
    {
     "data": {
      "text/plain": [
       "<AxesSubplot:xlabel='label', ylabel='count'>"
      ]
     },
     "execution_count": 17,
     "metadata": {},
     "output_type": "execute_result"
    },
    {
     "data": {
      "image/png": "[encoded data removed]",
      "text/plain": [
       "<Figure size 432x288 with 1 Axes>"
      ]
     },
     "metadata": {
      "needs_background": "light"
     },
     "output_type": "display_data"
    }
   ],
   "source": [
    "labelDF=pd.DataFrame({'label':label})\n",
    "sns.countplot(x='label', data=labelDF)"
   ]
  },
  {
   "cell_type": "markdown",
   "id": "073354d3",
   "metadata": {},
   "source": [
    "For above analysis it is clear that data has equel distribution of sentiments.This will help us building a good model."
   ]
  },
  {
   "cell_type": "markdown",
   "id": "df463f96",
   "metadata": {},
   "source": [
    "#### Creating train and test data set"
   ]
  },
  {
   "cell_type": "code",
   "execution_count": 19,
   "id": "86bccf0f",
   "metadata": {},
   "outputs": [],
   "source": [
    "from sklearn.model_selection import train_test_split\n",
    "X_train, X_test, y_train, y_test = train_test_split(data,label, test_size=0.30, random_state=1)"
   ]
  },
  {
   "cell_type": "code",
   "execution_count": 20,
   "id": "807b1e8b",
   "metadata": {},
   "outputs": [
    {
     "data": {
      "text/plain": [
       "(35000, 10000)"
      ]
     },
     "execution_count": 20,
     "metadata": {},
     "output_type": "execute_result"
    }
   ],
   "source": [
    "X_train.shape"
   ]
  },
  {
   "cell_type": "code",
   "execution_count": 21,
   "id": "de301bfe",
   "metadata": {},
   "outputs": [
    {
     "data": {
      "text/plain": [
       "(15000, 10000)"
      ]
     },
     "execution_count": 21,
     "metadata": {},
     "output_type": "execute_result"
    }
   ],
   "source": [
    "X_test.shape"
   ]
  },
  {
   "cell_type": "markdown",
   "id": "08d9bdff",
   "metadata": {},
   "source": [
    "#### Let's create sequential model"
   ]
  },
  {
   "cell_type": "code",
   "execution_count": 23,
   "id": "95343894",
   "metadata": {},
   "outputs": [],
   "source": [
    "# from keras.utils import to_categorical\n",
    "from tensorflow.keras.utils import to_categorical\n",
    "from keras import models\n",
    "from keras import layers"
   ]
  },
  {
   "cell_type": "code",
   "execution_count": 24,
   "id": "f74e78e9",
   "metadata": {},
   "outputs": [
    {
     "name": "stdout",
     "output_type": "stream",
     "text": [
      "Model: \"sequential\"\n",
      "_________________________________________________________________\n",
      " Layer (type)                Output Shape              Param #   \n",
      "=================================================================\n",
      " dense (Dense)               (None, 50)                500050    \n",
      "                                                                 \n",
      " dropout (Dropout)           (None, 50)                0         \n",
      "                                                                 \n",
      " dense_1 (Dense)             (None, 50)                2550      \n",
      "                                                                 \n",
      " dropout_1 (Dropout)         (None, 50)                0         \n",
      "                                                                 \n",
      " dense_2 (Dense)             (None, 50)                2550      \n",
      "                                                                 \n",
      " dense_3 (Dense)             (None, 1)                 51        \n",
      "                                                                 \n",
      "=================================================================\n",
      "Total params: 505,201\n",
      "Trainable params: 505,201\n",
      "Non-trainable params: 0\n",
      "_________________________________________________________________\n"
     ]
    },
    {
     "name": "stderr",
     "output_type": "stream",
     "text": [
      "2022-07-18 22:45:33.497511: I tensorflow/core/platform/cpu_feature_guard.cc:151] This TensorFlow binary is optimized with oneAPI Deep Neural Network Library (oneDNN) to use the following CPU instructions in performance-critical operations:  AVX2 FMA\n",
      "To enable them in other operations, rebuild TensorFlow with the appropriate compiler flags.\n"
     ]
    }
   ],
   "source": [
    "model = models.Sequential()\n",
    "# Input - Layer\n",
    "model.add(layers.Dense(50, activation = \"relu\", input_shape=(10000, )))\n",
    "# Hidden - Layers\n",
    "model.add(layers.Dropout(0.3, noise_shape=None, seed=None))\n",
    "model.add(layers.Dense(50, activation = \"relu\"))\n",
    "model.add(layers.Dropout(0.2, noise_shape=None, seed=None))\n",
    "model.add(layers.Dense(50, activation = \"relu\"))\n",
    "# Output- Layer\n",
    "model.add(layers.Dense(1, activation = \"sigmoid\"))\n",
    "model.summary()"
   ]
  },
  {
   "cell_type": "code",
   "execution_count": 25,
   "id": "2755c347",
   "metadata": {},
   "outputs": [],
   "source": [
    "#For early stopping \n",
    "import tensorflow as tf\n",
    "callback = tf.keras.callbacks.EarlyStopping(monitor='loss', patience=3)\n"
   ]
  },
  {
   "cell_type": "code",
   "execution_count": 26,
   "id": "f06413d5",
   "metadata": {},
   "outputs": [],
   "source": [
    "model.compile(\n",
    " optimizer = \"adam\",\n",
    " loss = \"binary_crossentropy\",\n",
    " metrics = [\"accuracy\"]\n",
    ")\n"
   ]
  },
  {
   "cell_type": "code",
   "execution_count": 27,
   "id": "b882dd1f",
   "metadata": {},
   "outputs": [
    {
     "name": "stdout",
     "output_type": "stream",
     "text": [
      "Epoch 1/100\n",
      "875/875 [==============================] - 4s 4ms/step - loss: 0.5233 - accuracy: 0.7305 - val_loss: 0.4707 - val_accuracy: 0.7670\n",
      "Epoch 2/100\n",
      "875/875 [==============================] - 3s 4ms/step - loss: 0.3952 - accuracy: 0.8212 - val_loss: 0.4780 - val_accuracy: 0.7655\n",
      "Epoch 3/100\n",
      "875/875 [==============================] - 3s 4ms/step - loss: 0.2981 - accuracy: 0.8745 - val_loss: 0.5413 - val_accuracy: 0.7617\n",
      "Epoch 4/100\n",
      "875/875 [==============================] - 3s 4ms/step - loss: 0.2092 - accuracy: 0.9165 - val_loss: 0.6333 - val_accuracy: 0.7545\n",
      "Epoch 5/100\n",
      "875/875 [==============================] - 3s 4ms/step - loss: 0.1504 - accuracy: 0.9421 - val_loss: 0.7130 - val_accuracy: 0.7501\n",
      "Epoch 6/100\n",
      "875/875 [==============================] - 3s 4ms/step - loss: 0.1143 - accuracy: 0.9575 - val_loss: 0.8466 - val_accuracy: 0.7473\n",
      "Epoch 7/100\n",
      "875/875 [==============================] - 3s 4ms/step - loss: 0.0919 - accuracy: 0.9650 - val_loss: 0.9156 - val_accuracy: 0.7463\n",
      "Epoch 8/100\n",
      "875/875 [==============================] - 3s 4ms/step - loss: 0.0791 - accuracy: 0.9703 - val_loss: 0.9958 - val_accuracy: 0.7495\n",
      "Epoch 9/100\n",
      "875/875 [==============================] - 3s 4ms/step - loss: 0.0724 - accuracy: 0.9727 - val_loss: 1.0687 - val_accuracy: 0.7455\n",
      "Epoch 10/100\n",
      "875/875 [==============================] - 3s 4ms/step - loss: 0.0670 - accuracy: 0.9746 - val_loss: 1.0139 - val_accuracy: 0.7460\n",
      "Epoch 11/100\n",
      "875/875 [==============================] - 3s 4ms/step - loss: 0.0593 - accuracy: 0.9763 - val_loss: 1.2232 - val_accuracy: 0.7487\n",
      "Epoch 12/100\n",
      "875/875 [==============================] - 4s 4ms/step - loss: 0.0525 - accuracy: 0.9795 - val_loss: 1.2110 - val_accuracy: 0.7462\n",
      "Epoch 13/100\n",
      "875/875 [==============================] - 3s 4ms/step - loss: 0.0497 - accuracy: 0.9817 - val_loss: 1.2140 - val_accuracy: 0.7465\n",
      "Epoch 14/100\n",
      "875/875 [==============================] - 3s 4ms/step - loss: 0.0488 - accuracy: 0.9818 - val_loss: 1.2274 - val_accuracy: 0.7471\n",
      "Epoch 15/100\n",
      "875/875 [==============================] - 3s 4ms/step - loss: 0.0448 - accuracy: 0.9833 - val_loss: 1.2804 - val_accuracy: 0.7485\n",
      "Epoch 16/100\n",
      "875/875 [==============================] - 3s 4ms/step - loss: 0.0411 - accuracy: 0.9852 - val_loss: 1.3362 - val_accuracy: 0.7481\n",
      "Epoch 17/100\n",
      "875/875 [==============================] - 3s 4ms/step - loss: 0.0409 - accuracy: 0.9846 - val_loss: 1.3139 - val_accuracy: 0.7491\n",
      "Epoch 18/100\n",
      "875/875 [==============================] - 3s 4ms/step - loss: 0.0390 - accuracy: 0.9851 - val_loss: 1.4208 - val_accuracy: 0.7481\n",
      "Epoch 19/100\n",
      "875/875 [==============================] - 3s 4ms/step - loss: 0.0372 - accuracy: 0.9860 - val_loss: 1.4170 - val_accuracy: 0.7497\n",
      "Epoch 20/100\n",
      "875/875 [==============================] - 3s 4ms/step - loss: 0.0344 - accuracy: 0.9878 - val_loss: 1.4707 - val_accuracy: 0.7487\n",
      "Epoch 21/100\n",
      "875/875 [==============================] - 3s 4ms/step - loss: 0.0316 - accuracy: 0.9881 - val_loss: 1.5207 - val_accuracy: 0.7481\n",
      "Epoch 22/100\n",
      "875/875 [==============================] - 3s 4ms/step - loss: 0.0326 - accuracy: 0.9880 - val_loss: 1.5302 - val_accuracy: 0.7485\n",
      "Epoch 23/100\n",
      "875/875 [==============================] - 4s 4ms/step - loss: 0.0325 - accuracy: 0.9876 - val_loss: 1.5262 - val_accuracy: 0.7461\n",
      "Epoch 24/100\n",
      "875/875 [==============================] - 4s 4ms/step - loss: 0.0320 - accuracy: 0.9882 - val_loss: 1.4897 - val_accuracy: 0.7445\n"
     ]
    }
   ],
   "source": [
    "results = model.fit(\n",
    " X_train, y_train,\n",
    " epochs= 100,\n",
    " batch_size = 40,\n",
    " validation_data = (X_test, y_test),\n",
    " callbacks=[callback]\n",
    ")"
   ]
  },
  {
   "cell_type": "code",
   "execution_count": 31,
   "id": "e258b495",
   "metadata": {},
   "outputs": [
    {
     "name": "stdout",
     "output_type": "stream",
     "text": [
      "0.7500527823964754\n"
     ]
    }
   ],
   "source": [
    "#Accuracy\n",
    "print(np.mean(results.history[\"val_accuracy\"]))"
   ]
  },
  {
   "cell_type": "code",
   "execution_count": 29,
   "id": "e1b468ce",
   "metadata": {},
   "outputs": [
    {
     "name": "stdout",
     "output_type": "stream",
     "text": [
      "dict_keys(['loss', 'accuracy', 'val_loss', 'val_accuracy'])\n"
     ]
    },
    {
     "data": {
      "image/png": "[encoded data removed]",
      "text/plain": [
       "<Figure size 432x288 with 1 Axes>"
      ]
     },
     "metadata": {
      "needs_background": "light"
     },
     "output_type": "display_data"
    },
    {
     "data": {
      "image/png": "[encoded data removed]",
      "text/plain": [
       "<Figure size 432x288 with 1 Axes>"
      ]
     },
     "metadata": {
      "needs_background": "light"
     },
     "output_type": "display_data"
    }
   ],
   "source": [
    "#Let's plot training history of our model\n",
    "\n",
    "# list all data in history\n",
    "print(results.history.keys())\n",
    "# summarize history for accuracy\n",
    "plt.plot(results.history['accuracy'])\n",
    "plt.plot(results.history['val_accuracy'])\n",
    "plt.title('model accuracy')\n",
    "plt.ylabel('accuracy')\n",
    "plt.xlabel('epoch')\n",
    "plt.legend(['train', 'test'], loc='upper left')\n",
    "plt.show()\n",
    "# summarize history for loss\n",
    "plt.plot(results.history['loss'])\n",
    "plt.plot(results.history['val_loss'])\n",
    "plt.title('model loss')\n",
    "plt.ylabel('loss')\n",
    "plt.xlabel('epoch')\n",
    "plt.legend(['train', 'test'], loc='upper left')\n",
    "plt.show()"
   ]
  },
  {
   "cell_type": "code",
   "execution_count": 30,
   "id": "47b4a7e5",
   "metadata": {},
   "outputs": [
    {
     "data": {
      "text/plain": [
       "array([[0.07739377],\n",
       "       [0.99895257],\n",
       "       [0.99963546],\n",
       "       ...,\n",
       "       [0.10373473],\n",
       "       [0.47763556],\n",
       "       [0.0159072 ]], dtype=float32)"
      ]
     },
     "execution_count": 30,
     "metadata": {},
     "output_type": "execute_result"
    }
   ],
   "source": [
    "model.predict(X_test)"
   ]
  },
  {
   "cell_type": "code",
   "execution_count": null,
   "id": "bf91cd16",
   "metadata": {},
   "outputs": [],
   "source": []
  },
  {
   "cell_type": "code",
   "execution_count": null,
   "id": "ea6dad88",
   "metadata": {},
   "outputs": [],
   "source": []
  },
  {
   "cell_type": "code",
   "execution_count": null,
   "id": "7dc863a7",
   "metadata": {},
   "outputs": [],
   "source": []
  },
  {
   "cell_type": "code",
   "execution_count": null,
   "id": "e499aa0b",
   "metadata": {},
   "outputs": [],
   "source": []
  },
  {
   "cell_type": "markdown",
   "id": "94274fc2",
   "metadata": {},
   "source": [
    "## NLP Project 2 - PART B\n",
    "- DOMAIN: Social media analytics\n",
    "- CONTEXT: Past studies in Sarcasm Detection mostly make use of Twitter datasets collected using hashtag based\n",
    "supervision but such datasets are noisy in terms of labels and language. Furthermore, many tweets are replies to\n",
    "other tweets and detecting sarcasm in these requires the availability of contextual tweets.In this hands-on project,\n",
    "the goal is to build a model to detect whether a sentence is sarcastic or not, using Bidirectional LSTMs.\n",
    "- DATA DESCRIPTION:\n",
    "The dataset is collected from two news websites, theonion.com and huffingtonpost.com.\n",
    "This new dataset has the following advantages over the existing Twitter datasets:\n",
    "Since news headlines are written by professionals in a formal manner, there are no spelling mistakes and informal usage. This\n",
    "reduces the sparsity and also increases the chance of finding pre-trained embeddings.\n",
    "Furthermore, since the sole purpose of TheOnion is to publish sarcastic news, we get high-quality labels with much less noise as\n",
    "compared to Twitter datasets.\n",
    "Unlike tweets that reply to other tweets, the news headlines obtained are self-contained. This would help us in teasing apart the\n",
    "real sarcastic elements\n",
    "Content: Each record consists of three attributes:\n",
    "is_sarcastic: 1 if the record is sarcastic otherwise 0\n",
    "headline: the headline of the news article\n",
    "article_link: link to the original news article. Useful in collecting supplementary data\n",
    "Reference: https://github.com/rishabhmisra/News-Headlines-Dataset-For-Sarcasm-Detection\n"
   ]
  },
  {
   "cell_type": "markdown",
   "id": "b6d68315",
   "metadata": {
    "colab_type": "text",
    "id": "vAk6BRUh8CqL"
   },
   "source": [
    "## Read Data \"Sarcasm_Headlines_Dataset.json\". Explore the data and get  some insights about the data.\n",
    "Hint - As its in json format you need to use pandas.read_json function. Give paraemeter lines = True."
   ]
  },
  {
   "cell_type": "code",
   "execution_count": 32,
   "id": "9c880ac7",
   "metadata": {
    "colab": {},
    "colab_type": "code",
    "id": "StSLB-T8PuGr"
   },
   "outputs": [],
   "source": [
    "import pandas as pd\n",
    "import os\n",
    "\n",
    "data = pd.read_json(os.path.join('Sarcasm_Headlines_Dataset.json'),lines=True)"
   ]
  },
  {
   "cell_type": "code",
   "execution_count": 33,
   "id": "3dd084e4",
   "metadata": {
    "colab": {
     "base_uri": "https://localhost:8080/",
     "height": 415
    },
    "colab_type": "code",
    "id": "m6LXx4qHqgWN",
    "outputId": "02f65927-d795-43a0-c991-eb338634eb3c"
   },
   "outputs": [
    {
     "data": {
      "text/html": [
       "<div>\n",
       "<style scoped>\n",
       "    .dataframe tbody tr th:only-of-type {\n",
       "        vertical-align: middle;\n",
       "    }\n",
       "\n",
       "    .dataframe tbody tr th {\n",
       "        vertical-align: top;\n",
       "    }\n",
       "\n",
       "    .dataframe thead th {\n",
       "        text-align: right;\n",
       "    }\n",
       "</style>\n",
       "<table border=\"1\" class=\"dataframe\">\n",
       "  <thead>\n",
       "    <tr style=\"text-align: right;\">\n",
       "      <th></th>\n",
       "      <th>is_sarcastic</th>\n",
       "      <th>headline</th>\n",
       "      <th>article_link</th>\n",
       "    </tr>\n",
       "  </thead>\n",
       "  <tbody>\n",
       "    <tr>\n",
       "      <th>0</th>\n",
       "      <td>1</td>\n",
       "      <td>thirtysomething scientists unveil doomsday clo...</td>\n",
       "      <td>https://www.theonion.com/thirtysomething-scien...</td>\n",
       "    </tr>\n",
       "    <tr>\n",
       "      <th>1</th>\n",
       "      <td>0</td>\n",
       "      <td>dem rep. totally nails why congress is falling...</td>\n",
       "      <td>https://www.huffingtonpost.com/entry/donna-edw...</td>\n",
       "    </tr>\n",
       "    <tr>\n",
       "      <th>2</th>\n",
       "      <td>0</td>\n",
       "      <td>eat your veggies: 9 deliciously different recipes</td>\n",
       "      <td>https://www.huffingtonpost.com/entry/eat-your-...</td>\n",
       "    </tr>\n",
       "    <tr>\n",
       "      <th>3</th>\n",
       "      <td>1</td>\n",
       "      <td>inclement weather prevents liar from getting t...</td>\n",
       "      <td>https://local.theonion.com/inclement-weather-p...</td>\n",
       "    </tr>\n",
       "    <tr>\n",
       "      <th>4</th>\n",
       "      <td>1</td>\n",
       "      <td>mother comes pretty close to using word 'strea...</td>\n",
       "      <td>https://www.theonion.com/mother-comes-pretty-c...</td>\n",
       "    </tr>\n",
       "    <tr>\n",
       "      <th>...</th>\n",
       "      <td>...</td>\n",
       "      <td>...</td>\n",
       "      <td>...</td>\n",
       "    </tr>\n",
       "    <tr>\n",
       "      <th>28614</th>\n",
       "      <td>1</td>\n",
       "      <td>jews to celebrate rosh hashasha or something</td>\n",
       "      <td>https://www.theonion.com/jews-to-celebrate-ros...</td>\n",
       "    </tr>\n",
       "    <tr>\n",
       "      <th>28615</th>\n",
       "      <td>1</td>\n",
       "      <td>internal affairs investigator disappointed con...</td>\n",
       "      <td>https://local.theonion.com/internal-affairs-in...</td>\n",
       "    </tr>\n",
       "    <tr>\n",
       "      <th>28616</th>\n",
       "      <td>0</td>\n",
       "      <td>the most beautiful acceptance speech this week...</td>\n",
       "      <td>https://www.huffingtonpost.com/entry/andrew-ah...</td>\n",
       "    </tr>\n",
       "    <tr>\n",
       "      <th>28617</th>\n",
       "      <td>1</td>\n",
       "      <td>mars probe destroyed by orbiting spielberg-gat...</td>\n",
       "      <td>https://www.theonion.com/mars-probe-destroyed-...</td>\n",
       "    </tr>\n",
       "    <tr>\n",
       "      <th>28618</th>\n",
       "      <td>1</td>\n",
       "      <td>dad clarifies this not a food stop</td>\n",
       "      <td>https://www.theonion.com/dad-clarifies-this-no...</td>\n",
       "    </tr>\n",
       "  </tbody>\n",
       "</table>\n",
       "<p>28619 rows × 3 columns</p>\n",
       "</div>"
      ],
      "text/plain": [
       "       is_sarcastic                                           headline  \\\n",
       "0                 1  thirtysomething scientists unveil doomsday clo...   \n",
       "1                 0  dem rep. totally nails why congress is falling...   \n",
       "2                 0  eat your veggies: 9 deliciously different recipes   \n",
       "3                 1  inclement weather prevents liar from getting t...   \n",
       "4                 1  mother comes pretty close to using word 'strea...   \n",
       "...             ...                                                ...   \n",
       "28614             1       jews to celebrate rosh hashasha or something   \n",
       "28615             1  internal affairs investigator disappointed con...   \n",
       "28616             0  the most beautiful acceptance speech this week...   \n",
       "28617             1  mars probe destroyed by orbiting spielberg-gat...   \n",
       "28618             1                 dad clarifies this not a food stop   \n",
       "\n",
       "                                            article_link  \n",
       "0      https://www.theonion.com/thirtysomething-scien...  \n",
       "1      https://www.huffingtonpost.com/entry/donna-edw...  \n",
       "2      https://www.huffingtonpost.com/entry/eat-your-...  \n",
       "3      https://local.theonion.com/inclement-weather-p...  \n",
       "4      https://www.theonion.com/mother-comes-pretty-c...  \n",
       "...                                                  ...  \n",
       "28614  https://www.theonion.com/jews-to-celebrate-ros...  \n",
       "28615  https://local.theonion.com/internal-affairs-in...  \n",
       "28616  https://www.huffingtonpost.com/entry/andrew-ah...  \n",
       "28617  https://www.theonion.com/mars-probe-destroyed-...  \n",
       "28618  https://www.theonion.com/dad-clarifies-this-no...  \n",
       "\n",
       "[28619 rows x 3 columns]"
      ]
     },
     "execution_count": 33,
     "metadata": {},
     "output_type": "execute_result"
    }
   ],
   "source": [
    "data"
   ]
  },
  {
   "cell_type": "code",
   "execution_count": 34,
   "id": "ef81194b",
   "metadata": {
    "colab": {
     "base_uri": "https://localhost:8080/",
     "height": 311
    },
    "colab_type": "code",
    "id": "wsNtC1fDqnH_",
    "outputId": "5bc63360-23a8-4b3b-fac5-8d2a9c00cd87"
   },
   "outputs": [
    {
     "name": "stdout",
     "output_type": "stream",
     "text": [
      "(28619, 3)\n"
     ]
    },
    {
     "data": {
      "text/html": [
       "<div>\n",
       "<style scoped>\n",
       "    .dataframe tbody tr th:only-of-type {\n",
       "        vertical-align: middle;\n",
       "    }\n",
       "\n",
       "    .dataframe tbody tr th {\n",
       "        vertical-align: top;\n",
       "    }\n",
       "\n",
       "    .dataframe thead th {\n",
       "        text-align: right;\n",
       "    }\n",
       "</style>\n",
       "<table border=\"1\" class=\"dataframe\">\n",
       "  <thead>\n",
       "    <tr style=\"text-align: right;\">\n",
       "      <th></th>\n",
       "      <th>is_sarcastic</th>\n",
       "    </tr>\n",
       "  </thead>\n",
       "  <tbody>\n",
       "    <tr>\n",
       "      <th>count</th>\n",
       "      <td>28619.000000</td>\n",
       "    </tr>\n",
       "    <tr>\n",
       "      <th>mean</th>\n",
       "      <td>0.476397</td>\n",
       "    </tr>\n",
       "    <tr>\n",
       "      <th>std</th>\n",
       "      <td>0.499451</td>\n",
       "    </tr>\n",
       "    <tr>\n",
       "      <th>min</th>\n",
       "      <td>0.000000</td>\n",
       "    </tr>\n",
       "    <tr>\n",
       "      <th>25%</th>\n",
       "      <td>0.000000</td>\n",
       "    </tr>\n",
       "    <tr>\n",
       "      <th>50%</th>\n",
       "      <td>0.000000</td>\n",
       "    </tr>\n",
       "    <tr>\n",
       "      <th>75%</th>\n",
       "      <td>1.000000</td>\n",
       "    </tr>\n",
       "    <tr>\n",
       "      <th>max</th>\n",
       "      <td>1.000000</td>\n",
       "    </tr>\n",
       "  </tbody>\n",
       "</table>\n",
       "</div>"
      ],
      "text/plain": [
       "       is_sarcastic\n",
       "count  28619.000000\n",
       "mean       0.476397\n",
       "std        0.499451\n",
       "min        0.000000\n",
       "25%        0.000000\n",
       "50%        0.000000\n",
       "75%        1.000000\n",
       "max        1.000000"
      ]
     },
     "execution_count": 34,
     "metadata": {},
     "output_type": "execute_result"
    }
   ],
   "source": [
    "print (data.shape)\n",
    "data.describe()"
   ]
  },
  {
   "cell_type": "code",
   "execution_count": 35,
   "id": "0ef4edf4",
   "metadata": {
    "colab": {
     "base_uri": "https://localhost:8080/",
     "height": 35
    },
    "colab_type": "code",
    "id": "tNpztCllqwJT",
    "outputId": "c18539c0-ff8d-4ba6-86e1-a5d318c22fa6"
   },
   "outputs": [
    {
     "data": {
      "text/plain": [
       "'dem rep. totally nails why congress is falling short on gender, racial equality'"
      ]
     },
     "execution_count": 35,
     "metadata": {},
     "output_type": "execute_result"
    }
   ],
   "source": [
    "data['headline'][1]"
   ]
  },
  {
   "cell_type": "code",
   "execution_count": 36,
   "id": "613dbf5e",
   "metadata": {
    "colab": {
     "base_uri": "https://localhost:8080/",
     "height": 52
    },
    "colab_type": "code",
    "id": "DxLSk1n9rFL2",
    "outputId": "92fb9f7e-9738-49ee-fc6e-60bd28d4c79a"
   },
   "outputs": [
    {
     "name": "stderr",
     "output_type": "stream",
     "text": [
      "[nltk_data] Downloading package stopwords to\n",
      "[nltk_data]     /Users/harmanpreetsingh/nltk_data...\n",
      "[nltk_data]   Unzipping corpora/stopwords.zip.\n"
     ]
    }
   ],
   "source": [
    "##The column headline needs to be cleaned up as we have special characters and numbers in the column\n",
    "\n",
    "import re\n",
    "from nltk.corpus import stopwords\n",
    "import nltk\n",
    "import string\n",
    "nltk.download('stopwords')\n",
    "stopwords = set(stopwords.words('english'))\n",
    "def cleanData(text):\n",
    "  text = re.sub(r'\\d+', '', text)\n",
    "  text = \"\".join([char for char in text if char not in string.punctuation])\n",
    "  return text\n",
    "\n",
    "data['headline']=data['headline'].apply(cleanData)"
   ]
  },
  {
   "cell_type": "code",
   "execution_count": 37,
   "id": "53d650af",
   "metadata": {
    "colab": {
     "base_uri": "https://localhost:8080/",
     "height": 35
    },
    "colab_type": "code",
    "id": "e_FfMsSr3W73",
    "outputId": "5bcdc31d-d5c3-4ca0-a072-5540f57fe079"
   },
   "outputs": [
    {
     "data": {
      "text/plain": [
       "'dem rep totally nails why congress is falling short on gender racial equality'"
      ]
     },
     "execution_count": 37,
     "metadata": {},
     "output_type": "execute_result"
    }
   ],
   "source": [
    "data['headline'][1]"
   ]
  },
  {
   "cell_type": "markdown",
   "id": "e8c7f65d",
   "metadata": {
    "colab_type": "text",
    "id": "z6pXf7A78E2H"
   },
   "source": [
    "## Drop `article_link` from dataset.\n",
    "As we only need headline text data and is_sarcastic column for this project. We can drop artical link column here."
   ]
  },
  {
   "cell_type": "code",
   "execution_count": 38,
   "id": "cf052617",
   "metadata": {
    "colab": {},
    "colab_type": "code",
    "id": "VLSVsvrlP9qD"
   },
   "outputs": [],
   "source": [
    "data.drop('article_link',inplace=True,axis=1)"
   ]
  },
  {
   "cell_type": "markdown",
   "id": "2000d3f3",
   "metadata": {
    "colab_type": "text",
    "id": "D0h6IOxU8OdH"
   },
   "source": [
    "## Get the Length of each line and find the maximum length.\n",
    "As different lines are of different length. We need to pad the our sequences using the max length."
   ]
  },
  {
   "cell_type": "code",
   "execution_count": 39,
   "id": "b5697ec8",
   "metadata": {
    "colab": {},
    "colab_type": "code",
    "id": "BRAsChZAQmr3"
   },
   "outputs": [],
   "source": [
    "maxlen = max([len(text) for text in data['headline']])"
   ]
  },
  {
   "cell_type": "markdown",
   "id": "9bf05234",
   "metadata": {
    "colab_type": "text",
    "id": "VPPd0YuPXi2M"
   },
   "source": [
    "#**## Modelling**"
   ]
  },
  {
   "cell_type": "markdown",
   "id": "f5674f67",
   "metadata": {
    "colab_type": "text",
    "id": "35abKfRx8as3"
   },
   "source": [
    "## Import required modules required for modelling."
   ]
  },
  {
   "cell_type": "code",
   "execution_count": 40,
   "id": "3e138790",
   "metadata": {
    "colab": {},
    "colab_type": "code",
    "id": "DVel73hYEV4r"
   },
   "outputs": [],
   "source": [
    "import numpy as np\n",
    "import tensorflow as tf\n",
    "from tensorflow.keras.preprocessing.text import Tokenizer\n",
    "from tensorflow.keras.preprocessing.sequence import pad_sequences\n",
    "from tensorflow.keras.layers import Dense, Input, LSTM, Embedding, Dropout, Activation, Flatten, Bidirectional, GlobalMaxPool1D\n",
    "from tensorflow.keras.models import Model, Sequential"
   ]
  },
  {
   "cell_type": "markdown",
   "id": "1908757b",
   "metadata": {
    "colab_type": "text",
    "id": "9ziybaD1RdD9"
   },
   "source": [
    "# Set Different Parameters for the model."
   ]
  },
  {
   "cell_type": "code",
   "execution_count": 41,
   "id": "5e3252b9",
   "metadata": {
    "colab": {},
    "colab_type": "code",
    "id": "jPw9gAN_EV6m"
   },
   "outputs": [],
   "source": [
    "max_features = 10000\n",
    "maxlen = max([len(text) for text in data['headline']])\n",
    "embedding_size = 200"
   ]
  },
  {
   "cell_type": "markdown",
   "id": "90081c2b",
   "metadata": {
    "colab_type": "text",
    "id": "9abSe-bM8fn9"
   },
   "source": [
    "## Apply Keras Tokenizer of headline column of your data.\n",
    "Hint - First create a tokenizer instance using Tokenizer(num_words=max_features) \n",
    "And then fit this tokenizer instance on your data column df['headline'] using .fit_on_texts()"
   ]
  },
  {
   "cell_type": "code",
   "execution_count": 42,
   "id": "5171e01e",
   "metadata": {
    "colab": {},
    "colab_type": "code",
    "id": "T9Ad26HfTFMS"
   },
   "outputs": [],
   "source": [
    "tokenizer = Tokenizer(num_words=max_features,filters='!\"#$%&()*+,-./:;<=>?@[\\\\]^_`{|}~\\t\\n',lower=True,split=' ', char_level=False)\n",
    "tokenizer.fit_on_texts(data['headline'])"
   ]
  },
  {
   "cell_type": "markdown",
   "id": "9beaeb65",
   "metadata": {
    "colab_type": "text",
    "id": "0Ffi63KsST3P"
   },
   "source": [
    "# Define X and y for your model."
   ]
  },
  {
   "cell_type": "code",
   "execution_count": 43,
   "id": "46635995",
   "metadata": {
    "colab": {
     "base_uri": "https://localhost:8080/",
     "height": 381
    },
    "colab_type": "code",
    "id": "wnjxBdqmSS4s",
    "outputId": "50110aa7-1293-4bf9-bfdc-ee0d7a2a7675"
   },
   "outputs": [
    {
     "name": "stdout",
     "output_type": "stream",
     "text": [
      "Number of Samples: 28619\n",
      "[   0    0    0    0    0    0    0    0    0    0    0    0    0    0\n",
      "    0    0    0    0    0    0    0    0    0    0    0    0    0    0\n",
      "    0    0    0    0    0    0    0    0    0    0    0    0    0    0\n",
      "    0    0    0    0    0    0    0    0    0    0    0    0    0    0\n",
      "    0    0    0    0    0    0    0    0    0    0    0    0    0    0\n",
      "    0    0    0    0    0    0    0    0    0    0    0    0    0    0\n",
      "    0    0    0    0    0    0    0    0    0    0    0    0    0    0\n",
      "    0    0    0    0    0    0    0    0    0    0    0    0    0    0\n",
      "    0    0    0    0    0    0    0    0    0    0    0    0    0    0\n",
      "    0    0    0    0    0    0    0    0    0    0    0    0    0    0\n",
      "    0    0    0    0    0    0    0    0    0    0    0    0    0    0\n",
      "    0    0    0    0    0    0    0    0    0    0    0    0    0    0\n",
      "    0    0    0    0    0    0    0    0    0    0    0    0    0    0\n",
      "    0    0    0    0    0    0    0    0    0    0    0    0    0    0\n",
      "    0    0    0    0    0    0    0    0    0    0    0    0    0    0\n",
      "    0    0    0    0    0    0    0    0    0    0    0    0    0    0\n",
      "    0    0    0    0    0    0    0    0    0    0    0    0    0    0\n",
      "    0    0    0    0    0    0    0    0    0    0    0    0    0    0\n",
      "    0    0    0    0    0    0    0    0    0    0    0    0    0    0\n",
      "    0    0    0    0    0    0    0    0    0    0    0    0    0    0\n",
      "    0    0    0    0    0    0    0    0    0    0    0    0    0    0\n",
      "    0    0    0    0    0    0    0    0    0    0    0    0    0    0\n",
      "    0    0    0    0    0    0    0    0    0    0    0    0    0    0\n",
      "    0    0    0    0    0    0    0    0    0    0    0    0    0    0\n",
      "    0    0    0    0    0    0    0    0    0    0    0    0    0    0\n",
      "    0    0    0    0    0    0    0    0    0    0    0    0    0    0\n",
      "    0    0    0    0    0    0    0    0    0    0    0    0    0    0\n",
      "    0    0    0    0    0    0    0    0    0    0    0    0    0    0\n",
      "    0    0    0    0    0    0    0    0    0    0    0    0    0    0\n",
      "    0    0    0    0    0    0    0    0    0    0    0    0    0    0\n",
      "    0    0    0    0    0    0    0    0    0    0    0    0    0    0\n",
      "    0    0    0    0    0    0    0    0    0    0    0    0    0    0\n",
      "    0    0    0    0    0    0    0    0    0    0    0    0    0    0\n",
      "    0    0    0    0    0    0    0    0    0    0    0    0    0    0\n",
      "    0    0    0    0    0    0    0    0    0    0    0    0    0    0\n",
      "    0    0    0    0    0    0    0    0    0    0    0    0    0    0\n",
      "    0    0    0    0    0    0    0    0    0    0    0    0    0    0\n",
      "    0    0    0    0    0    0    0    0    0    0    0    0    0    0\n",
      "    0    0    0    0    0    0    0    0    0    0    0    0    0    0\n",
      "    0    0    0    0    0    0    0    0    0    0    0    0    0    0\n",
      "    0    0    0    0    0    0    0    0    0    0    0    0    0    0\n",
      "    0    0    0    0    0    0    0    0    0    0    0    0    0    0\n",
      "    0    0    0    0    0    0    0    0    0    0    0    0    0    0\n",
      "    0    0    0    0    0    0    0    0    0    0    0    0    0    0\n",
      "    0    0    0    0    0    0    0    0    0    0    0    0    0    0\n",
      "    0    0    0    0    0    0    0    0    0    0    0    0    0    0\n",
      "    0    0    0    0    0    0    0    0    0    0    0    0    0    0\n",
      "    0    0    0    0    0    0    0    0    0    0    0    0    0    0\n",
      "    0    0    0    0    0    0    0    0    0    0    0    0    0    0\n",
      "    0    0    0    0    0    0    0    0    0    0    0    0    0    0\n",
      "    0    0    0    0    0    0    0    0    0    0    0    0    0    0\n",
      "    0    0    0    0    0    0    0    0    0    0    0    0    0    0\n",
      "    0    0    0    0    0    0    0    0    0    0    0    0    0    0\n",
      "    0    0    0    0    0    0    0    0    0    0    0    0    0    0\n",
      "    0    0    0    0    0    0    0    0    0    0    0    0    0    0\n",
      "    0    0    0    0    0    0    0    0    0    0    0    0    0    0\n",
      "    0    0    0    0    0    0    0    0    0    0    0    0    0    0\n",
      "    0    0    0    0    0    0    0    0    0    0    0    0    0    0\n",
      "    0    0    0    0    0    0    0    0    0    0    0    0    0    0\n",
      "    0    0    0    0    0    0    0    0    0    0    0    0    0    0\n",
      "    0    0    0    0    0    0    0    0    0    0    0    0    0    0\n",
      "    0    0    0    0    0    0    0    0    0    0    0    0    0    0\n",
      "    0    0    0    0    0    0    0    0    0    0    0    0    0    0\n",
      "    0    0    0    0    0    0    0    0    0    0    0    0    0    0\n",
      "    0    0    0    0    0    0    0  331 3065 6217 2291    2  660 1120]\n",
      "Number of Labels:  28619\n",
      "1\n"
     ]
    }
   ],
   "source": [
    "X = tokenizer.texts_to_sequences(data['headline'])\n",
    "X = pad_sequences(X, maxlen = maxlen)\n",
    "y = np.asarray(data['is_sarcastic'])\n",
    "\n",
    "print(\"Number of Samples:\", len(X))\n",
    "print(X[0])\n",
    "print(\"Number of Labels: \", len(y))\n",
    "print(y[0])"
   ]
  },
  {
   "cell_type": "markdown",
   "id": "82bba4f1",
   "metadata": {
    "colab_type": "text",
    "id": "WJLyKg-98rH_"
   },
   "source": [
    "## Get the Vocabulary size\n",
    "You can use tokenizer.word_index."
   ]
  },
  {
   "cell_type": "code",
   "execution_count": 44,
   "id": "74956afb",
   "metadata": {
    "colab": {
     "base_uri": "https://localhost:8080/",
     "height": 35
    },
    "colab_type": "code",
    "id": "q-2w0gHEUUIo",
    "outputId": "3a2f9a93-fce6-4066-d3e7-ab84096b6e6a"
   },
   "outputs": [
    {
     "name": "stdout",
     "output_type": "stream",
     "text": [
      "28846\n"
     ]
    }
   ],
   "source": [
    "num_words=len(tokenizer.word_index)\n",
    "print (num_words)"
   ]
  },
  {
   "cell_type": "markdown",
   "id": "060a3c34",
   "metadata": {
    "colab_type": "text",
    "id": "5hjeMi40XcB1"
   },
   "source": [
    "#**## Word Embedding**"
   ]
  },
  {
   "cell_type": "markdown",
   "id": "f70ab8b8",
   "metadata": {
    "colab_type": "text",
    "id": "bUF1TuQa8ux0"
   },
   "source": [
    "## Get Glove Word Embeddings"
   ]
  },
  {
   "cell_type": "code",
   "execution_count": 45,
   "id": "088b7241",
   "metadata": {
    "colab": {},
    "colab_type": "code",
    "id": "vq5AIfRtMeZh"
   },
   "outputs": [],
   "source": [
    "glove_file = \"glove.6B.zip\""
   ]
  },
  {
   "cell_type": "code",
   "execution_count": 46,
   "id": "3a2cd9fc",
   "metadata": {
    "colab": {},
    "colab_type": "code",
    "id": "DJLX_n2WMecA"
   },
   "outputs": [],
   "source": [
    "#Extract Glove embedding zip file\n",
    "from zipfile import ZipFile\n",
    "with ZipFile(glove_file, 'r') as z:\n",
    "  z.extractall()"
   ]
  },
  {
   "cell_type": "markdown",
   "id": "b68e9d53",
   "metadata": {
    "colab_type": "text",
    "id": "9IuXlu8-U3HG"
   },
   "source": [
    "# Get the Word Embeddings using Embedding file as given below."
   ]
  },
  {
   "cell_type": "code",
   "execution_count": 47,
   "id": "fcbefafa",
   "metadata": {
    "colab": {},
    "colab_type": "code",
    "id": "elZ-T5aFGZmZ"
   },
   "outputs": [],
   "source": [
    "EMBEDDING_FILE = './glove.6B.200d.txt'\n",
    "\n",
    "embeddings = {}\n",
    "for o in open(EMBEDDING_FILE):\n",
    "    word = o.split(\" \")[0]\n",
    "    # print(word)\n",
    "    embd = o.split(\" \")[1:]\n",
    "    embd = np.asarray(embd, dtype='float32')\n",
    "    # print(embd)\n",
    "    embeddings[word] = embd\n",
    "\n"
   ]
  },
  {
   "cell_type": "markdown",
   "id": "ac7aab7d",
   "metadata": {
    "colab_type": "text",
    "id": "bTPxveDmVCrA"
   },
   "source": [
    "# Create a weight matrix for words in training docs"
   ]
  },
  {
   "cell_type": "code",
   "execution_count": 48,
   "id": "b6351435",
   "metadata": {
    "colab": {
     "base_uri": "https://localhost:8080/",
     "height": 235
    },
    "colab_type": "code",
    "id": "xQgOhiywU9nU",
    "outputId": "3e43d444-0fec-4777-a46c-fc2a20530eb5"
   },
   "outputs": [
    {
     "data": {
      "text/plain": [
       "400000"
      ]
     },
     "execution_count": 48,
     "metadata": {},
     "output_type": "execute_result"
    }
   ],
   "source": [
    "embedding_matrix = np.zeros((num_words, 200))\n",
    "\n",
    "for word, i in tokenizer.word_index.items():\n",
    "    embedding_vector = embeddings.get(word)\n",
    "    if embedding_vector is not None:\n",
    "        embedding_matrix[i] = embedding_vector\n",
    "\n",
    "len(embeddings.values())"
   ]
  },
  {
   "cell_type": "markdown",
   "id": "80e87ea7",
   "metadata": {
    "colab_type": "text",
    "id": "u7IbWuEX82Ra"
   },
   "source": [
    "## Create and Compile your Model\n",
    "Hint - Use Sequential model instance and then add Embedding layer, Bidirectional(LSTM) layer, then dense and dropout layers as required. \n",
    "In the end add a final dense layer with sigmoid activation for binary classification.\n"
   ]
  },
  {
   "cell_type": "code",
   "execution_count": 49,
   "id": "1d4c9057",
   "metadata": {
    "colab": {},
    "colab_type": "code",
    "id": "d7jhsSgYXG4l"
   },
   "outputs": [],
   "source": [
    "### Embedding layer for hint \n",
    "import tensorflow as tf\n",
    "\n",
    "input_layer = Input(shape=(maxlen,),dtype=tf.int64)\n",
    "embed = Embedding(embedding_matrix.shape[0],output_dim=200,weights=[embedding_matrix],input_length=maxlen, trainable=True)(input_layer)\n",
    "lstm=Bidirectional(LSTM(128))(embed)\n",
    "drop=Dropout(0.3)(lstm)\n",
    "dense =Dense(100,activation='relu')(drop)\n",
    "out=Dense(2,activation='softmax')(dense)"
   ]
  },
  {
   "cell_type": "markdown",
   "id": "d7aff945",
   "metadata": {
    "colab_type": "text",
    "id": "IJFMxZwMWoTw"
   },
   "source": [
    "# Fit your model with a batch size of 100 and validation_split = 0.2. and state the validation accuracy\n"
   ]
  },
  {
   "cell_type": "code",
   "execution_count": 50,
   "id": "e398bf5a",
   "metadata": {
    "colab": {
     "base_uri": "https://localhost:8080/",
     "height": 364
    },
    "colab_type": "code",
    "id": "ZpVkajCcWnRK",
    "outputId": "6463c9ee-b14b-4792-e27a-9b950b0997a4"
   },
   "outputs": [
    {
     "name": "stdout",
     "output_type": "stream",
     "text": [
      "Model: \"model\"\n",
      "_________________________________________________________________\n",
      " Layer (type)                Output Shape              Param #   \n",
      "=================================================================\n",
      " input_1 (InputLayer)        [(None, 910)]             0         \n",
      "                                                                 \n",
      " embedding (Embedding)       (None, 910, 200)          5769200   \n",
      "                                                                 \n",
      " bidirectional (Bidirectiona  (None, 256)              336896    \n",
      " l)                                                              \n",
      "                                                                 \n",
      " dropout_2 (Dropout)         (None, 256)               0         \n",
      "                                                                 \n",
      " dense_4 (Dense)             (None, 100)               25700     \n",
      "                                                                 \n",
      " dense_5 (Dense)             (None, 2)                 202       \n",
      "                                                                 \n",
      "=================================================================\n",
      "Total params: 6,131,998\n",
      "Trainable params: 6,131,998\n",
      "Non-trainable params: 0\n",
      "_________________________________________________________________\n"
     ]
    }
   ],
   "source": [
    "batch_size = 100\n",
    "epochs = 5\n",
    "\n",
    "model = Model(input_layer,out)\n",
    "model.compile(loss='sparse_categorical_crossentropy',optimizer=\"adam\",metrics=['accuracy'])\n",
    "model.summary()"
   ]
  },
  {
   "cell_type": "code",
   "execution_count": 51,
   "id": "62000e77",
   "metadata": {
    "colab": {
     "base_uri": "https://localhost:8080/",
     "height": 225
    },
    "colab_type": "code",
    "id": "TNDkfYCWte4Q",
    "outputId": "10c71378-2dcb-4ee3-fcdd-bdae376e9ca9"
   },
   "outputs": [
    {
     "name": "stdout",
     "output_type": "stream",
     "text": [
      "Epoch 1/5\n",
      "229/229 [==============================] - 1242s 5s/step - loss: 0.6245 - accuracy: 0.6647\n",
      "Epoch 2/5\n",
      "229/229 [==============================] - 1475s 6s/step - loss: 0.3859 - accuracy: 0.8333\n",
      "Epoch 3/5\n",
      "229/229 [==============================] - 1267s 6s/step - loss: 0.2498 - accuracy: 0.9011\n",
      "Epoch 4/5\n",
      "229/229 [==============================] - 1426s 6s/step - loss: 0.1768 - accuracy: 0.9358\n",
      "Epoch 5/5\n",
      "229/229 [==============================] - 1223s 5s/step - loss: 0.1307 - accuracy: 0.9537\n"
     ]
    },
    {
     "data": {
      "text/plain": [
       "<keras.callbacks.History at 0x7f7a3c57fc70>"
      ]
     },
     "execution_count": 51,
     "metadata": {},
     "output_type": "execute_result"
    }
   ],
   "source": [
    "from sklearn.model_selection import train_test_split\n",
    "X_train, X_test, y_train, y_test = train_test_split(X, y, test_size=0.2, random_state=10)\n",
    "\n",
    "model.fit(X_train,y_train,batch_size=batch_size, epochs=epochs, verbose=1)"
   ]
  },
  {
   "cell_type": "code",
   "execution_count": 52,
   "id": "69baa084",
   "metadata": {
    "colab": {
     "base_uri": "https://localhost:8080/",
     "height": 55
    },
    "colab_type": "code",
    "id": "kqvqFFu7tjqH",
    "outputId": "d31ef4a5-9371-4b1f-b83d-f2095a6e23ba"
   },
   "outputs": [
    {
     "name": "stdout",
     "output_type": "stream",
     "text": [
      "179/179 [==============================] - 133s 742ms/step\n"
     ]
    }
   ],
   "source": [
    "test_pred = model.predict(np.array(X_test), verbose=1)"
   ]
  },
  {
   "cell_type": "code",
   "execution_count": 53,
   "id": "3a83e7e0",
   "metadata": {
    "colab": {},
    "colab_type": "code",
    "id": "YkgjPw-ctohS"
   },
   "outputs": [],
   "source": [
    "test_pred = [1 if j>i else 0 for i,j in test_pred]"
   ]
  },
  {
   "cell_type": "code",
   "execution_count": 54,
   "id": "272667ff",
   "metadata": {
    "colab": {
     "base_uri": "https://localhost:8080/",
     "height": 52
    },
    "colab_type": "code",
    "id": "683aglhutqwx",
    "outputId": "da6dcbdf-89d9-4aba-c6ee-03548c3d889a"
   },
   "outputs": [
    {
     "data": {
      "text/plain": [
       "array([[2418,  559],\n",
       "       [ 292, 2455]])"
      ]
     },
     "execution_count": 54,
     "metadata": {},
     "output_type": "execute_result"
    }
   ],
   "source": [
    "from sklearn.metrics import confusion_matrix\n",
    "confusion_matrix(y_test, test_pred)"
   ]
  },
  {
   "cell_type": "code",
   "execution_count": 55,
   "id": "3e597d0d",
   "metadata": {
    "colab": {
     "base_uri": "https://localhost:8080/",
     "height": 173
    },
    "colab_type": "code",
    "id": "PNjr1BQBtxGe",
    "outputId": "da88dbb7-9caf-41d2-d85b-ae3cc0c4fd18"
   },
   "outputs": [
    {
     "name": "stdout",
     "output_type": "stream",
     "text": [
      "              precision    recall  f1-score   support\n",
      "\n",
      "           0       0.89      0.81      0.85      2977\n",
      "           1       0.81      0.89      0.85      2747\n",
      "\n",
      "    accuracy                           0.85      5724\n",
      "   macro avg       0.85      0.85      0.85      5724\n",
      "weighted avg       0.85      0.85      0.85      5724\n",
      "\n"
     ]
    }
   ],
   "source": [
    "from sklearn.metrics import classification_report\n",
    "\n",
    "print(classification_report(y_test, test_pred))"
   ]
  },
  {
   "cell_type": "code",
   "execution_count": null,
   "id": "3acd2d23",
   "metadata": {},
   "outputs": [],
   "source": []
  },
  {
   "cell_type": "code",
   "execution_count": null,
   "id": "612307b2",
   "metadata": {},
   "outputs": [],
   "source": []
  },
  {
   "cell_type": "code",
   "execution_count": null,
   "id": "21db5a50",
   "metadata": {},
   "outputs": [],
   "source": []
  },
  {
   "cell_type": "code",
   "execution_count": null,
   "id": "e3568203",
   "metadata": {},
   "outputs": [],
   "source": []
  },
  {
   "cell_type": "code",
   "execution_count": null,
   "id": "2147687a",
   "metadata": {},
   "outputs": [],
   "source": []
  }
 ],
 "metadata": {
  "kernelspec": {
   "display_name": "Python 3 (ipykernel)",
   "language": "python",
   "name": "python3"
  },
  "language_info": {
   "codemirror_mode": {
    "name": "ipython",
    "version": 3
   },
   "file_extension": ".py",
   "mimetype": "text/x-python",
   "name": "python",
   "nbconvert_exporter": "python",
   "pygments_lexer": "ipython3",
   "version": "3.8.10"
  }
 },
 "nbformat": 4,
 "nbformat_minor": 5
}
